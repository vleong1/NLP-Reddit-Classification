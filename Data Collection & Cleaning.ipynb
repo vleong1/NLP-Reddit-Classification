{
 "cells": [
  {
   "cell_type": "markdown",
   "metadata": {},
   "source": [
    "# Data Collection & Cleaning"
   ]
  },
  {
   "cell_type": "code",
   "execution_count": 1,
   "metadata": {},
   "outputs": [],
   "source": [
    "import pandas as pd\n",
    "import numpy as np\n",
    "\n",
    "import requests"
   ]
  },
  {
   "cell_type": "markdown",
   "metadata": {},
   "source": [
    "## Keto Subreddit: Submissions"
   ]
  },
  {
   "cell_type": "code",
   "execution_count": 2,
   "metadata": {},
   "outputs": [],
   "source": [
    "def submission(subreddit, before):\n",
    "    \"\"\"\n",
    "    This function pulls the submissions of the desired subreddit before a specified time range.\n",
    "    \"\"\"\n",
    "    params = {'subreddit' : subreddit, 'size' : 500, 'before' : before}\n",
    "    res = requests.get('https://api.pushshift.io/reddit/search/submission', params)\n",
    "    reddit_submissions = res.json()\n",
    "    posts = reddit_submissions['data']\n",
    "    return posts"
   ]
  },
  {
   "cell_type": "markdown",
   "metadata": {},
   "source": [
    "#### Pulling 1st Submission\n",
    "- To establish a datframe to append the rest of our automated pulled rows"
   ]
  },
  {
   "cell_type": "code",
   "execution_count": 54,
   "metadata": {},
   "outputs": [],
   "source": [
    "keto_post = submission('keto', None)"
   ]
  },
  {
   "cell_type": "code",
   "execution_count": 64,
   "metadata": {},
   "outputs": [
    {
     "data": {
      "text/html": [
       "<div>\n",
       "<style scoped>\n",
       "    .dataframe tbody tr th:only-of-type {\n",
       "        vertical-align: middle;\n",
       "    }\n",
       "\n",
       "    .dataframe tbody tr th {\n",
       "        vertical-align: top;\n",
       "    }\n",
       "\n",
       "    .dataframe thead th {\n",
       "        text-align: right;\n",
       "    }\n",
       "</style>\n",
       "<table border=\"1\" class=\"dataframe\">\n",
       "  <thead>\n",
       "    <tr style=\"text-align: right;\">\n",
       "      <th></th>\n",
       "      <th>subreddit</th>\n",
       "      <th>title</th>\n",
       "      <th>selftext</th>\n",
       "    </tr>\n",
       "  </thead>\n",
       "  <tbody>\n",
       "    <tr>\n",
       "      <th>0</th>\n",
       "      <td>keto</td>\n",
       "      <td>Tudo começa com o primeiro passo</td>\n",
       "      <td>[removed]</td>\n",
       "    </tr>\n",
       "    <tr>\n",
       "      <th>1</th>\n",
       "      <td>keto</td>\n",
       "      <td>Fathead dough - what do you make with it?</td>\n",
       "      <td>[removed]</td>\n",
       "    </tr>\n",
       "    <tr>\n",
       "      <th>2</th>\n",
       "      <td>keto</td>\n",
       "      <td>Water fast to jump start keto?</td>\n",
       "      <td>[removed]</td>\n",
       "    </tr>\n",
       "    <tr>\n",
       "      <th>3</th>\n",
       "      <td>keto</td>\n",
       "      <td>Can stress kick you out of keto? Cortisol ques...</td>\n",
       "      <td>So I've been losing a steady 4 lbs a week for ...</td>\n",
       "    </tr>\n",
       "    <tr>\n",
       "      <th>4</th>\n",
       "      <td>keto</td>\n",
       "      <td>down almost 20 lbs before and after pics (slig...</td>\n",
       "      <td>I'm 23, and 5'6. I was someone who struggled w...</td>\n",
       "    </tr>\n",
       "    <tr>\n",
       "      <th>...</th>\n",
       "      <td>...</td>\n",
       "      <td>...</td>\n",
       "      <td>...</td>\n",
       "    </tr>\n",
       "    <tr>\n",
       "      <th>95</th>\n",
       "      <td>keto</td>\n",
       "      <td>Keto breakfast. is there a cereal I can eat th...</td>\n",
       "      <td>[removed]</td>\n",
       "    </tr>\n",
       "    <tr>\n",
       "      <th>96</th>\n",
       "      <td>keto</td>\n",
       "      <td>Suspicious of Electrolyte Powder</td>\n",
       "      <td>I am in my third week of keto, feeling amazing...</td>\n",
       "    </tr>\n",
       "    <tr>\n",
       "      <th>97</th>\n",
       "      <td>keto</td>\n",
       "      <td>Back on track!</td>\n",
       "      <td>So back in February I posted on here to figure...</td>\n",
       "    </tr>\n",
       "    <tr>\n",
       "      <th>98</th>\n",
       "      <td>keto</td>\n",
       "      <td>Changes in back pain on keto or w/ weight loss?</td>\n",
       "      <td>Hey everyone,\\n\\nWanted to start off by saying...</td>\n",
       "    </tr>\n",
       "    <tr>\n",
       "      <th>99</th>\n",
       "      <td>keto</td>\n",
       "      <td>Does keto help heart inflammation?</td>\n",
       "      <td>https://ewbeyer.medium.com/how-inflammation-ch...</td>\n",
       "    </tr>\n",
       "  </tbody>\n",
       "</table>\n",
       "<p>100 rows × 3 columns</p>\n",
       "</div>"
      ],
      "text/plain": [
       "   subreddit                                              title  \\\n",
       "0       keto                   Tudo começa com o primeiro passo   \n",
       "1       keto          Fathead dough - what do you make with it?   \n",
       "2       keto                     Water fast to jump start keto?   \n",
       "3       keto  Can stress kick you out of keto? Cortisol ques...   \n",
       "4       keto  down almost 20 lbs before and after pics (slig...   \n",
       "..       ...                                                ...   \n",
       "95      keto  Keto breakfast. is there a cereal I can eat th...   \n",
       "96      keto                   Suspicious of Electrolyte Powder   \n",
       "97      keto                                     Back on track!   \n",
       "98      keto    Changes in back pain on keto or w/ weight loss?   \n",
       "99      keto                 Does keto help heart inflammation?   \n",
       "\n",
       "                                             selftext  \n",
       "0                                           [removed]  \n",
       "1                                           [removed]  \n",
       "2                                           [removed]  \n",
       "3   So I've been losing a steady 4 lbs a week for ...  \n",
       "4   I'm 23, and 5'6. I was someone who struggled w...  \n",
       "..                                                ...  \n",
       "95                                          [removed]  \n",
       "96  I am in my third week of keto, feeling amazing...  \n",
       "97  So back in February I posted on here to figure...  \n",
       "98  Hey everyone,\\n\\nWanted to start off by saying...  \n",
       "99  https://ewbeyer.medium.com/how-inflammation-ch...  \n",
       "\n",
       "[100 rows x 3 columns]"
      ]
     },
     "execution_count": 64,
     "metadata": {},
     "output_type": "execute_result"
    }
   ],
   "source": [
    "keto_subs = pd.DataFrame(keto_post, columns = ['subreddit', 'title', 'selftext'])\n",
    "keto_subs"
   ]
  },
  {
   "cell_type": "code",
   "execution_count": 82,
   "metadata": {},
   "outputs": [
    {
     "data": {
      "text/plain": [
       "1619132798"
      ]
     },
     "execution_count": 82,
     "metadata": {},
     "output_type": "execute_result"
    }
   ],
   "source": [
    "# grab 'created_utc' from the last post in our first submissions pull to utilize in loop\n",
    "\n",
    "keto_post[-1]['created_utc']"
   ]
  },
  {
   "cell_type": "markdown",
   "metadata": {},
   "source": [
    "#### Creating a loop for data collection:"
   ]
  },
  {
   "cell_type": "code",
   "execution_count": 87,
   "metadata": {},
   "outputs": [],
   "source": [
    "# goal was to run enough times to gather over 5k rows of data\n",
    "\n",
    "# this is the 'created_utc' from the last post in the first submissions pull\n",
    "before = 1619132798\n",
    "\n",
    "for i in range (2,81):\n",
    "    # subtracted utc by a large enough number each time in hopes to grab unique rows each time\n",
    "    before -= 200_000\n",
    "    \n",
    "    # append new rows to the already created dataframe from the first submissions pull\n",
    "    keto_subs = keto_subs.append(pd.DataFrame(submission('keto', before))[['subreddit', 'title', 'selftext']])"
   ]
  },
  {
   "cell_type": "code",
   "execution_count": 88,
   "metadata": {},
   "outputs": [
    {
     "data": {
      "text/html": [
       "<div>\n",
       "<style scoped>\n",
       "    .dataframe tbody tr th:only-of-type {\n",
       "        vertical-align: middle;\n",
       "    }\n",
       "\n",
       "    .dataframe tbody tr th {\n",
       "        vertical-align: top;\n",
       "    }\n",
       "\n",
       "    .dataframe thead th {\n",
       "        text-align: right;\n",
       "    }\n",
       "</style>\n",
       "<table border=\"1\" class=\"dataframe\">\n",
       "  <thead>\n",
       "    <tr style=\"text-align: right;\">\n",
       "      <th></th>\n",
       "      <th>subreddit</th>\n",
       "      <th>title</th>\n",
       "      <th>selftext</th>\n",
       "    </tr>\n",
       "  </thead>\n",
       "  <tbody>\n",
       "    <tr>\n",
       "      <th>3</th>\n",
       "      <td>keto</td>\n",
       "      <td>Can stress kick you out of keto? Cortisol ques...</td>\n",
       "      <td>So I've been losing a steady 4 lbs a week for ...</td>\n",
       "    </tr>\n",
       "    <tr>\n",
       "      <th>4</th>\n",
       "      <td>keto</td>\n",
       "      <td>down almost 20 lbs before and after pics (slig...</td>\n",
       "      <td>I'm 23, and 5'6. I was someone who struggled w...</td>\n",
       "    </tr>\n",
       "    <tr>\n",
       "      <th>11</th>\n",
       "      <td>keto</td>\n",
       "      <td>Pulsatile tinnitus and Keto</td>\n",
       "      <td>I have been doing Keto for around 10 weeks, ha...</td>\n",
       "    </tr>\n",
       "    <tr>\n",
       "      <th>13</th>\n",
       "      <td>keto</td>\n",
       "      <td>Does Keto Work? (Emphatic Yes)</td>\n",
       "      <td>Preface - Over 50 Soldier here. (Male)\\n\\nDepl...</td>\n",
       "    </tr>\n",
       "    <tr>\n",
       "      <th>15</th>\n",
       "      <td>keto</td>\n",
       "      <td>Homemade meal replacement type shake recipe thing</td>\n",
       "      <td>I really struggle to get enough calories in on...</td>\n",
       "    </tr>\n",
       "    <tr>\n",
       "      <th>...</th>\n",
       "      <td>...</td>\n",
       "      <td>...</td>\n",
       "      <td>...</td>\n",
       "    </tr>\n",
       "    <tr>\n",
       "      <th>95</th>\n",
       "      <td>keto</td>\n",
       "      <td>Does anyone with Hypothyroidism have experienc...</td>\n",
       "      <td>[removed]</td>\n",
       "    </tr>\n",
       "    <tr>\n",
       "      <th>96</th>\n",
       "      <td>keto</td>\n",
       "      <td>QQ: Currently I'm in a Keto diet and Intermitt...</td>\n",
       "      <td>[removed]</td>\n",
       "    </tr>\n",
       "    <tr>\n",
       "      <th>97</th>\n",
       "      <td>keto</td>\n",
       "      <td>Keto success stories -How she did it??</td>\n",
       "      <td>[removed]</td>\n",
       "    </tr>\n",
       "    <tr>\n",
       "      <th>98</th>\n",
       "      <td>keto</td>\n",
       "      <td>5 months 172 to 126 and still going</td>\n",
       "      <td>A year ago I was at my biggest and I decided t...</td>\n",
       "    </tr>\n",
       "    <tr>\n",
       "      <th>99</th>\n",
       "      <td>keto</td>\n",
       "      <td>Keto meal help?</td>\n",
       "      <td>I'll lay it to you simple, im a damn boulder d...</td>\n",
       "    </tr>\n",
       "  </tbody>\n",
       "</table>\n",
       "<p>7953 rows × 3 columns</p>\n",
       "</div>"
      ],
      "text/plain": [
       "   subreddit                                              title  \\\n",
       "3       keto  Can stress kick you out of keto? Cortisol ques...   \n",
       "4       keto  down almost 20 lbs before and after pics (slig...   \n",
       "11      keto                        Pulsatile tinnitus and Keto   \n",
       "13      keto                     Does Keto Work? (Emphatic Yes)   \n",
       "15      keto  Homemade meal replacement type shake recipe thing   \n",
       "..       ...                                                ...   \n",
       "95      keto  Does anyone with Hypothyroidism have experienc...   \n",
       "96      keto  QQ: Currently I'm in a Keto diet and Intermitt...   \n",
       "97      keto             Keto success stories -How she did it??   \n",
       "98      keto                5 months 172 to 126 and still going   \n",
       "99      keto                                    Keto meal help?   \n",
       "\n",
       "                                             selftext  \n",
       "3   So I've been losing a steady 4 lbs a week for ...  \n",
       "4   I'm 23, and 5'6. I was someone who struggled w...  \n",
       "11  I have been doing Keto for around 10 weeks, ha...  \n",
       "13  Preface - Over 50 Soldier here. (Male)\\n\\nDepl...  \n",
       "15  I really struggle to get enough calories in on...  \n",
       "..                                                ...  \n",
       "95                                          [removed]  \n",
       "96                                          [removed]  \n",
       "97                                          [removed]  \n",
       "98  A year ago I was at my biggest and I decided t...  \n",
       "99  I'll lay it to you simple, im a damn boulder d...  \n",
       "\n",
       "[7953 rows x 3 columns]"
      ]
     },
     "execution_count": 88,
     "metadata": {},
     "output_type": "execute_result"
    }
   ],
   "source": [
    "# check what was collected\n",
    "\n",
    "keto_subs"
   ]
  },
  {
   "cell_type": "code",
   "execution_count": 89,
   "metadata": {},
   "outputs": [],
   "source": [
    "# filter out for '[removed]'\n",
    "\n",
    "keto_subs = keto_subs[keto_subs['selftext'] != '[removed]']"
   ]
  },
  {
   "cell_type": "code",
   "execution_count": 90,
   "metadata": {},
   "outputs": [],
   "source": [
    "# filter out for '[deleted]'\n",
    "\n",
    "keto_subs = keto_subs[keto_subs['selftext'] != '[deleted]']"
   ]
  },
  {
   "cell_type": "code",
   "execution_count": 91,
   "metadata": {},
   "outputs": [
    {
     "data": {
      "text/plain": [
       "subreddit      0\n",
       "title          0\n",
       "selftext     110\n",
       "dtype: int64"
      ]
     },
     "execution_count": 91,
     "metadata": {},
     "output_type": "execute_result"
    }
   ],
   "source": [
    "# check for null values\n",
    "\n",
    "keto_subs.isna().sum()"
   ]
  },
  {
   "cell_type": "code",
   "execution_count": 92,
   "metadata": {},
   "outputs": [],
   "source": [
    "# drop null values\n",
    "\n",
    "keto_subs.dropna(inplace = True)"
   ]
  },
  {
   "cell_type": "code",
   "execution_count": 93,
   "metadata": {},
   "outputs": [
    {
     "data": {
      "text/plain": [
       "subreddit    0\n",
       "title        0\n",
       "selftext     0\n",
       "dtype: int64"
      ]
     },
     "execution_count": 93,
     "metadata": {},
     "output_type": "execute_result"
    }
   ],
   "source": [
    "# ensure null values were dropped\n",
    "\n",
    "keto_subs.isna().sum()"
   ]
  },
  {
   "cell_type": "code",
   "execution_count": 94,
   "metadata": {},
   "outputs": [
    {
     "data": {
      "text/plain": [
       "Anyone wanna be weight loss buddy                                           8\n",
       "Exercise after keto for muscles                                             7\n",
       "I can’t eat more than 1000 calories daily                                   5\n",
       "Keto help, I’m desperate                                                    5\n",
       "Question on how much fat I should be eating.                                5\n",
       "                                                                           ..\n",
       "almost 2 months keto progress                                               1\n",
       "Intermittent Fasting and Keto                                               1\n",
       "Has anyone had Hyperthyroidism / \"Feeling hot all the time\" before Keto?    1\n",
       "Yet another keto success story w/ pictures                                  1\n",
       "Need help with Salmon Oil dosage                                            1\n",
       "Name: title, Length: 3941, dtype: int64"
      ]
     },
     "execution_count": 94,
     "metadata": {},
     "output_type": "execute_result"
    }
   ],
   "source": [
    "# check 'title' column\n",
    "\n",
    "keto_subs['title'].value_counts(ascending = False)"
   ]
  },
  {
   "cell_type": "code",
   "execution_count": 131,
   "metadata": {},
   "outputs": [],
   "source": [
    "# referenced https://pandas.pydata.org/docs/reference/api/pandas.DataFrame.drop_duplicates.html\n",
    "# dropping dupicate titles\n",
    "\n",
    "keto_subs.drop_duplicates(subset = ['title'], inplace = True)"
   ]
  },
  {
   "cell_type": "code",
   "execution_count": 96,
   "metadata": {
    "collapsed": true,
    "jupyter": {
     "outputs_hidden": true
    }
   },
   "outputs": [
    {
     "data": {
      "text/plain": [
       "Hello /r/keto Community!\\n\\nPlease use this support thread to talk freely and support each other. \\*\\*We've switched up the format to last 2 days so that there's more time for interaction on questions and answers.\\*\\*\\n\\nAll visitors, new and old, are kindly reminded to observe the sidebar rules, check the FAQ, and use the Search Bar before creating new posts.\\n\\n*If you're new to* /r/keto *and need some info, start with* [*Keto in a Nutshell*](https://www.reddit.com/r/keto/wiki/keto_in_a_nutshell) *and* [*the FAQ*](https://www.reddit.com/r/keto/wiki/faq)*. Or, if you have a question that doesn't seem to be covered, head on over to the Community Support thread (pinned to the top of the subreddit) and ask the community!*                                                                                                                                                                                                                                                                                                                                                                                                                                                                                                                                                                                                                                                                                                                                                                                                                                                                                    29\n",
       "                                                                                                                                                                                                                                                                                                                                                                                                                                                                                                                                                                                                                                                                                                                                                                                                                                                                                                                                                                                                                                                                                                                                                                                                                                                                                                                                                                                                                                                                                                                                                                                                                                             25\n",
       "Hello /r/keto Community!\\n\\nPlease use this support thread to talk freely and support each other. **We've switched up the format to last 2 days so that there's more time for interaction on questions and answers.**\\n\\nAll visitors, new and old, are kindly reminded to observe the sidebar rules, check the FAQ, and use the Search Bar before creating new posts.\\n\\nAnd if you're new to /r/keto and need some info, start with [Keto in a Nutshell](https://www.reddit.com/r/keto/wiki/keto_in_a_nutshell) and [the FAQ](https://www.reddit.com/r/keto/wiki/faq). Or, if you have a question that doesn't seem to be covered, post a comment below in the Community Support thread and ask the community!                                                                                                                                                                                                                                                                                                                                                                                                                                                                                                                                                                                                                                                                                                                                                                                                                                                                                                                             15\n",
       "Hello /r/keto Community!\\n\\nYou've all been working so hard and we love hearing about all of your personal victories! Clothes too big? Friends and family noticing a difference? Skipped over something unhealthy? Please use this thread to share any of your Scale or Non-Scale Victories with us!\\n\\nMake sure to give us some background - what brought you to keto? Do you have any specific goals that align with your victories? Have you tried something new that led to your success? What's the next step for you?\\n\\nSince this thread is likely to fill up quickly, consider sorting the comments by \"new\" (instead of \"best\" or \"top\") to see the newest posts and support your fellow community members.\\n\\n*If you're new to* /r/keto *and need some info, start with* [*Keto in a Nutshell*](https://www.reddit.com/r/keto/wiki/keto_in_a_nutshell) *and* [*the FAQ*](https://www.reddit.com/r/keto/wiki/faq)*. Or, if you have a question that doesn't seem to be covered, head on over to the Community Support thread (pinned to the top of the subreddit) and ask the community!*                                                                                                                                                                                                                                                                                                                                                                                                                                                                                                                                        13\n",
       "Hey there,  I'm looking for a friend/buddy that help me in loose weight. We could update each other on what we eat everyday and it might help keep us stay motivated at thoses times we have cravings/want to cheat the diet. Msg me if interested let's talk!!.                                                                                                                                                                                                                                                                                                                                                                                                                                                                                                                                                                                                                                                                                                                                                                                                                                                                                                                                                                                                                                                                                                                                                                                                                                                                                                                                                                              7\n",
       "                                                                                                                                                                                                                                                                                                                                                                                                                                                                                                                                                                                                                                                                                                                                                                                                                                                                                                                                                                                                                                                                                                                                                                                                                                                                                                                                                                                                                                                                                                                                                                                                                                             ..\n",
       "Hey Guys, planning on going with keto again. Goal is as alwas to lose weight :-). I am 190cm and 120kg. I also do 3-4hours week workout on my bike (outside or on zwift). In order to support and induce keto faster I want to start every day with a bulletproof coffee (black coffee with MCT 100% C8 oil). nothing else for breakfast, I kind of want to combine this with intermittent fasting (Lunch at ~12pm, supper at ~7pm and then nothing else). \\nWhat I also want to add are juices (produced by a slow juicer). This could be a mix of Carrot, beetroot, cucumber, lemon, apple, curcuma, ginger, orange). It's about 500ml juice and I calculated 160 calories and 22g sugar (mainly from Apple/Orange and some from Carrot). I plan to drink the juice at lunch time.\\n\\nHere's a few questions:\\n- does the black coffee + MCT C8 mix interrupt my intermittent fasting if I take it in the morning? Also is it ok to drink tea in the times that I am not supposed to eat anything? I suppose it is.\\n- MCT C8, is this the real deal? Last time I was doing the bulletproof coffee with coconut butter, also I ate bad meats (pork bacon) and my cholesterol went through the roof...\\n- Sweets and sweeteners. Do you guys have any good tips (I live in Switzerland). I realize that sweets sweetend my Maltit for example do also contain lots of carbs... so it basically has to be something with erythrit but does it also taste good? Or should I just stick to black chocolate?\\n\\nThank a lot and let me know what you think and or if I am making somewhere a mistake due to wrongful information?\\n\\nThanks!     1\n",
       "Good Morning! I have a question and figured I could get some good feedback here. So my nephew's birthday is this coming weekend and he loves ribs. So I pre-ordered some from our local smoke shop for everyone. I also ordered some dry rubbed rib tips and requested no sugar or sauce on those for my sister &amp; I. I have not found any nutritional value on these and am worried about my daily macros. I plan my meals every morning before breaking my fast with lunch. I like having power over my food and not the other way around. I don't \"cheat\" and am not ever planning to either. Am I just being overly paranoid?                                                                                                                                                                                                                                                                                                                                                                                                                                                                                                                                                                                                                                                                                                                                                                                                                                                                                                                                                                                                          1\n",
       "Finished my 3rd week of keto. Averaging about 1700 calories a day and 10 g of carbs or less. SW 203.8 CW 203.4. A whopping .4 lbs in three weeks.   I track everything I eat with MyFitnessPal. My morning glucose reading is 117. Not very happy at this point. I’ll keep going but it’s pretty frustrating.                                                                                                                                                                                                                                                                                                                                                                                                                                                                                                                                                                                                                                                                                                                                                                                                                                                                                                                                                                                                                                                                                                                                                                                                                                                                                                                                 1\n",
       "My doctor recommended keto after blood tests revealed non-alcoholic fatty liver disease (NAFLD). At only 25 years old hearing that although you barely drink, you have the liver function of an alcoholic is pretty startling and enough to push me to make the change. \\n\\nThis is my first ever post on Reddit and I could probably write a whole novel on what the experience has been. \\n\\nOne year ago my stomach and bowel flare-ups controlled my life. They dictated nearly everything I did as I was so afraid of a flare up on a road trip or at a work function etc. In the entire year since I changed my eating habits, I have had fewer than five total flare ups compared to at least two per week before. \\n\\nAfter changing my food, other healthy habits followed like increased exercise, self-care time, and far more reading to name a few. \\n\\nChanging my lifestyle has given me so much. Even though I’ve never posted, this community has been a huge part of my transformation and I guess I just want to say thank you!\\n\\nOh! And I reversed my NAFLD with my blood work back in the normal range, and lost 98 pounds in the process.                                                                                                                                                                                                                                                                                                                                                                                                                                                                             1\n",
       "I made this and it was delicious! It didn't taste \"low sugar\" or anything. It was really rich and felt like I was cheating. \\n\\nThis is the video of it being made... it's really simple!\\n\\n[https://youtu.be/lOseyzu12Yo](https://youtu.be/lOseyzu12Yo)\\n\\n&amp;#x200B;\\n\\nI also found this article which is a little more suited to those that need exact measurements.\\n\\n[https://kirbiecravings.com/2-ingredient-chocolate-peanut-butter-fudge/](https://kirbiecravings.com/2-ingredient-chocolate-peanut-butter-fudge/)                                                                                                                                                                                                                                                                                                                                                                                                                                                                                                                                                                                                                                                                                                                                                                                                                                                                                                                                                                                                                                                                                                               1\n",
       "Name: selftext, Length: 3875, dtype: int64"
      ]
     },
     "execution_count": 96,
     "metadata": {},
     "output_type": "execute_result"
    }
   ],
   "source": [
    "keto_subs['selftext'].value_counts(ascending = False)"
   ]
  },
  {
   "cell_type": "code",
   "execution_count": 97,
   "metadata": {},
   "outputs": [],
   "source": [
    "# also drop duplicates of 'selftext'\n",
    "\n",
    "keto_subs.drop_duplicates(subset = ['selftext'], inplace = True)"
   ]
  },
  {
   "cell_type": "code",
   "execution_count": 134,
   "metadata": {},
   "outputs": [
    {
     "data": {
      "text/plain": [
       "(3841, 3)"
      ]
     },
     "execution_count": 134,
     "metadata": {},
     "output_type": "execute_result"
    }
   ],
   "source": [
    "# check shape to see how many rows are left\n",
    "\n",
    "keto_subs.shape"
   ]
  },
  {
   "cell_type": "code",
   "execution_count": 132,
   "metadata": {},
   "outputs": [],
   "source": [
    "# reset index after all the dropping that was done\n",
    "\n",
    "keto_subs.reset_index(drop = True, inplace = True)"
   ]
  },
  {
   "cell_type": "code",
   "execution_count": 133,
   "metadata": {},
   "outputs": [
    {
     "data": {
      "text/html": [
       "<div>\n",
       "<style scoped>\n",
       "    .dataframe tbody tr th:only-of-type {\n",
       "        vertical-align: middle;\n",
       "    }\n",
       "\n",
       "    .dataframe tbody tr th {\n",
       "        vertical-align: top;\n",
       "    }\n",
       "\n",
       "    .dataframe thead th {\n",
       "        text-align: right;\n",
       "    }\n",
       "</style>\n",
       "<table border=\"1\" class=\"dataframe\">\n",
       "  <thead>\n",
       "    <tr style=\"text-align: right;\">\n",
       "      <th></th>\n",
       "      <th>subreddit</th>\n",
       "      <th>title</th>\n",
       "      <th>selftext</th>\n",
       "    </tr>\n",
       "  </thead>\n",
       "  <tbody>\n",
       "    <tr>\n",
       "      <th>0</th>\n",
       "      <td>keto</td>\n",
       "      <td>Can stress kick you out of keto? Cortisol ques...</td>\n",
       "      <td>So I've been losing a steady 4 lbs a week for ...</td>\n",
       "    </tr>\n",
       "    <tr>\n",
       "      <th>1</th>\n",
       "      <td>keto</td>\n",
       "      <td>down almost 20 lbs before and after pics (slig...</td>\n",
       "      <td>I'm 23, and 5'6. I was someone who struggled w...</td>\n",
       "    </tr>\n",
       "    <tr>\n",
       "      <th>2</th>\n",
       "      <td>keto</td>\n",
       "      <td>Pulsatile tinnitus and Keto</td>\n",
       "      <td>I have been doing Keto for around 10 weeks, ha...</td>\n",
       "    </tr>\n",
       "    <tr>\n",
       "      <th>3</th>\n",
       "      <td>keto</td>\n",
       "      <td>Does Keto Work? (Emphatic Yes)</td>\n",
       "      <td>Preface - Over 50 Soldier here. (Male)\\n\\nDepl...</td>\n",
       "    </tr>\n",
       "    <tr>\n",
       "      <th>4</th>\n",
       "      <td>keto</td>\n",
       "      <td>Homemade meal replacement type shake recipe thing</td>\n",
       "      <td>I really struggle to get enough calories in on...</td>\n",
       "    </tr>\n",
       "    <tr>\n",
       "      <th>...</th>\n",
       "      <td>...</td>\n",
       "      <td>...</td>\n",
       "      <td>...</td>\n",
       "    </tr>\n",
       "    <tr>\n",
       "      <th>3836</th>\n",
       "      <td>keto</td>\n",
       "      <td>Guess we are all different</td>\n",
       "      <td>So i am starting my third week on keto and i h...</td>\n",
       "    </tr>\n",
       "    <tr>\n",
       "      <th>3837</th>\n",
       "      <td>keto</td>\n",
       "      <td>I feel like I’m never full and I’m overwhelmed...</td>\n",
       "      <td>Currently I’m more loosely following Keto whil...</td>\n",
       "    </tr>\n",
       "    <tr>\n",
       "      <th>3838</th>\n",
       "      <td>keto</td>\n",
       "      <td>2 months, &amp;lt;30g carbs per day, 1 lb lost, st...</td>\n",
       "      <td>Okay guys. What am I doing wrong?  I’m keeping...</td>\n",
       "    </tr>\n",
       "    <tr>\n",
       "      <th>3839</th>\n",
       "      <td>keto</td>\n",
       "      <td>5 months 172 to 126 and still going</td>\n",
       "      <td>A year ago I was at my biggest and I decided t...</td>\n",
       "    </tr>\n",
       "    <tr>\n",
       "      <th>3840</th>\n",
       "      <td>keto</td>\n",
       "      <td>Keto meal help?</td>\n",
       "      <td>I'll lay it to you simple, im a damn boulder d...</td>\n",
       "    </tr>\n",
       "  </tbody>\n",
       "</table>\n",
       "<p>3841 rows × 3 columns</p>\n",
       "</div>"
      ],
      "text/plain": [
       "     subreddit                                              title  \\\n",
       "0         keto  Can stress kick you out of keto? Cortisol ques...   \n",
       "1         keto  down almost 20 lbs before and after pics (slig...   \n",
       "2         keto                        Pulsatile tinnitus and Keto   \n",
       "3         keto                     Does Keto Work? (Emphatic Yes)   \n",
       "4         keto  Homemade meal replacement type shake recipe thing   \n",
       "...        ...                                                ...   \n",
       "3836      keto                         Guess we are all different   \n",
       "3837      keto  I feel like I’m never full and I’m overwhelmed...   \n",
       "3838      keto  2 months, &lt;30g carbs per day, 1 lb lost, st...   \n",
       "3839      keto                5 months 172 to 126 and still going   \n",
       "3840      keto                                    Keto meal help?   \n",
       "\n",
       "                                               selftext  \n",
       "0     So I've been losing a steady 4 lbs a week for ...  \n",
       "1     I'm 23, and 5'6. I was someone who struggled w...  \n",
       "2     I have been doing Keto for around 10 weeks, ha...  \n",
       "3     Preface - Over 50 Soldier here. (Male)\\n\\nDepl...  \n",
       "4     I really struggle to get enough calories in on...  \n",
       "...                                                 ...  \n",
       "3836  So i am starting my third week on keto and i h...  \n",
       "3837  Currently I’m more loosely following Keto whil...  \n",
       "3838  Okay guys. What am I doing wrong?  I’m keeping...  \n",
       "3839  A year ago I was at my biggest and I decided t...  \n",
       "3840  I'll lay it to you simple, im a damn boulder d...  \n",
       "\n",
       "[3841 rows x 3 columns]"
      ]
     },
     "execution_count": 133,
     "metadata": {},
     "output_type": "execute_result"
    }
   ],
   "source": [
    "# final review of the keto df before writing to csv\n",
    "\n",
    "keto_subs"
   ]
  },
  {
   "cell_type": "code",
   "execution_count": 135,
   "metadata": {},
   "outputs": [],
   "source": [
    "# write cleaned keto Submissions to CSV\n",
    "\n",
    "keto_subs.to_csv('keto_subs.csv', index = False)"
   ]
  },
  {
   "cell_type": "markdown",
   "metadata": {},
   "source": [
    "---"
   ]
  },
  {
   "cell_type": "markdown",
   "metadata": {},
   "source": [
    "## Nutrition Subreddit: Submissions"
   ]
  },
  {
   "cell_type": "code",
   "execution_count": 7,
   "metadata": {},
   "outputs": [],
   "source": [
    "def submission(subreddit, before):\n",
    "    \"\"\"\n",
    "    This function pulls the submissions of the desired subreddit before a specified time range.\n",
    "    \"\"\"\n",
    "    params = {'subreddit' : subreddit, 'size' : 500, 'before' : before}\n",
    "    res = requests.get('https://api.pushshift.io/reddit/search/submission', params)\n",
    "    \n",
    "    if res.status_code == 200:\n",
    "        reddit_submissions = res.json()\n",
    "        return reddit_submissions['data']\n",
    "    else:\n",
    "        return -1"
   ]
  },
  {
   "cell_type": "markdown",
   "metadata": {},
   "source": [
    "#### Pulling 1st Submission\n",
    "- To establish a datframe to append the rest of our automated pulled rows"
   ]
  },
  {
   "cell_type": "code",
   "execution_count": 3,
   "metadata": {},
   "outputs": [],
   "source": [
    "nutrition_post = submission('nutrition', None)"
   ]
  },
  {
   "cell_type": "code",
   "execution_count": 4,
   "metadata": {},
   "outputs": [
    {
     "data": {
      "text/html": [
       "<div>\n",
       "<style scoped>\n",
       "    .dataframe tbody tr th:only-of-type {\n",
       "        vertical-align: middle;\n",
       "    }\n",
       "\n",
       "    .dataframe tbody tr th {\n",
       "        vertical-align: top;\n",
       "    }\n",
       "\n",
       "    .dataframe thead th {\n",
       "        text-align: right;\n",
       "    }\n",
       "</style>\n",
       "<table border=\"1\" class=\"dataframe\">\n",
       "  <thead>\n",
       "    <tr style=\"text-align: right;\">\n",
       "      <th></th>\n",
       "      <th>subreddit</th>\n",
       "      <th>title</th>\n",
       "      <th>selftext</th>\n",
       "    </tr>\n",
       "  </thead>\n",
       "  <tbody>\n",
       "    <tr>\n",
       "      <th>0</th>\n",
       "      <td>nutrition</td>\n",
       "      <td>Can diet soda/sugar alcohols cause water reten...</td>\n",
       "      <td>Can food replacements for “bad” food lead to w...</td>\n",
       "    </tr>\n",
       "    <tr>\n",
       "      <th>1</th>\n",
       "      <td>nutrition</td>\n",
       "      <td>What is the healthiest way to drink alcohol?</td>\n",
       "      <td>So, alcohol is not something you want as part ...</td>\n",
       "    </tr>\n",
       "    <tr>\n",
       "      <th>2</th>\n",
       "      <td>nutrition</td>\n",
       "      <td>Struggling losing weight</td>\n",
       "      <td>[removed]</td>\n",
       "    </tr>\n",
       "    <tr>\n",
       "      <th>3</th>\n",
       "      <td>nutrition</td>\n",
       "      <td>calcium RDI - how would you achieve this figur...</td>\n",
       "      <td>dairy has gotten a bad rap for its saturated f...</td>\n",
       "    </tr>\n",
       "    <tr>\n",
       "      <th>4</th>\n",
       "      <td>nutrition</td>\n",
       "      <td>calcium RDI - how would you achieve this figur...</td>\n",
       "      <td>[removed]</td>\n",
       "    </tr>\n",
       "    <tr>\n",
       "      <th>...</th>\n",
       "      <td>...</td>\n",
       "      <td>...</td>\n",
       "      <td>...</td>\n",
       "    </tr>\n",
       "    <tr>\n",
       "      <th>95</th>\n",
       "      <td>nutrition</td>\n",
       "      <td>Plant-Based News and PCRM - are they trustworthy?</td>\n",
       "      <td>Ever since I got into nutrition, I have had vi...</td>\n",
       "    </tr>\n",
       "    <tr>\n",
       "      <th>96</th>\n",
       "      <td>nutrition</td>\n",
       "      <td>Is oatmeal healthier with boiled water on the ...</td>\n",
       "      <td>I'm not sure if oatmeal is better by adding bo...</td>\n",
       "    </tr>\n",
       "    <tr>\n",
       "      <th>97</th>\n",
       "      <td>nutrition</td>\n",
       "      <td>What do Viruses and pathogens feed on?</td>\n",
       "      <td>Hello, I have just watched a best selling auth...</td>\n",
       "    </tr>\n",
       "    <tr>\n",
       "      <th>98</th>\n",
       "      <td>nutrition</td>\n",
       "      <td>Do Eggs feed Viruses and Pathogens?</td>\n",
       "      <td>[removed]</td>\n",
       "    </tr>\n",
       "    <tr>\n",
       "      <th>99</th>\n",
       "      <td>nutrition</td>\n",
       "      <td>What are your favorite midnight snacks?</td>\n",
       "      <td>I need recommendations for healthy midnight sn...</td>\n",
       "    </tr>\n",
       "  </tbody>\n",
       "</table>\n",
       "<p>100 rows × 3 columns</p>\n",
       "</div>"
      ],
      "text/plain": [
       "    subreddit                                              title  \\\n",
       "0   nutrition  Can diet soda/sugar alcohols cause water reten...   \n",
       "1   nutrition       What is the healthiest way to drink alcohol?   \n",
       "2   nutrition                           Struggling losing weight   \n",
       "3   nutrition  calcium RDI - how would you achieve this figur...   \n",
       "4   nutrition  calcium RDI - how would you achieve this figur...   \n",
       "..        ...                                                ...   \n",
       "95  nutrition  Plant-Based News and PCRM - are they trustworthy?   \n",
       "96  nutrition  Is oatmeal healthier with boiled water on the ...   \n",
       "97  nutrition             What do Viruses and pathogens feed on?   \n",
       "98  nutrition                Do Eggs feed Viruses and Pathogens?   \n",
       "99  nutrition            What are your favorite midnight snacks?   \n",
       "\n",
       "                                             selftext  \n",
       "0   Can food replacements for “bad” food lead to w...  \n",
       "1   So, alcohol is not something you want as part ...  \n",
       "2                                           [removed]  \n",
       "3   dairy has gotten a bad rap for its saturated f...  \n",
       "4                                           [removed]  \n",
       "..                                                ...  \n",
       "95  Ever since I got into nutrition, I have had vi...  \n",
       "96  I'm not sure if oatmeal is better by adding bo...  \n",
       "97  Hello, I have just watched a best selling auth...  \n",
       "98                                          [removed]  \n",
       "99  I need recommendations for healthy midnight sn...  \n",
       "\n",
       "[100 rows x 3 columns]"
      ]
     },
     "execution_count": 4,
     "metadata": {},
     "output_type": "execute_result"
    }
   ],
   "source": [
    "nutrition_subs = pd.DataFrame(nutrition_post, columns = ['subreddit', 'title', 'selftext'])\n",
    "nutrition_subs"
   ]
  },
  {
   "cell_type": "code",
   "execution_count": 5,
   "metadata": {},
   "outputs": [
    {
     "data": {
      "text/plain": [
       "1619331270"
      ]
     },
     "execution_count": 5,
     "metadata": {},
     "output_type": "execute_result"
    }
   ],
   "source": [
    "# grab 'created_utc' from the last post in our first submissions pull to utilize in loop\n",
    "\n",
    "nutrition_post[-1]['created_utc']"
   ]
  },
  {
   "cell_type": "markdown",
   "metadata": {},
   "source": [
    "#### Creating a loop for data collection:"
   ]
  },
  {
   "cell_type": "code",
   "execution_count": 8,
   "metadata": {},
   "outputs": [],
   "source": [
    "# goal was to run enough times to gather over 5k rows of data\n",
    "\n",
    "# this is the 'created_utc' from the last post in the first submissions pull\n",
    "before = 1619331270\n",
    "\n",
    "for i in range (2,81):\n",
    "    # subtracted utc by a large enough number each time in hopes to grab unique rows each time\n",
    "    before -= 200_000\n",
    "    \n",
    "    submission_res = submission('nutrition', before)\n",
    "    \n",
    "    # if submission_res returned -1 (res.status_code != 200), then skip over instance with 'continue'\n",
    "    if submission_res == -1:\n",
    "        continue\n",
    "    else:                \n",
    "        # append new rows to the already created dataframe from the first submissions pull\n",
    "        nutrition_subs = nutrition_subs.append(pd.DataFrame(submission_res)[['subreddit', 'title', 'selftext']])"
   ]
  },
  {
   "cell_type": "code",
   "execution_count": 9,
   "metadata": {},
   "outputs": [
    {
     "data": {
      "text/html": [
       "<div>\n",
       "<style scoped>\n",
       "    .dataframe tbody tr th:only-of-type {\n",
       "        vertical-align: middle;\n",
       "    }\n",
       "\n",
       "    .dataframe tbody tr th {\n",
       "        vertical-align: top;\n",
       "    }\n",
       "\n",
       "    .dataframe thead th {\n",
       "        text-align: right;\n",
       "    }\n",
       "</style>\n",
       "<table border=\"1\" class=\"dataframe\">\n",
       "  <thead>\n",
       "    <tr style=\"text-align: right;\">\n",
       "      <th></th>\n",
       "      <th>subreddit</th>\n",
       "      <th>title</th>\n",
       "      <th>selftext</th>\n",
       "    </tr>\n",
       "  </thead>\n",
       "  <tbody>\n",
       "    <tr>\n",
       "      <th>0</th>\n",
       "      <td>nutrition</td>\n",
       "      <td>Can diet soda/sugar alcohols cause water reten...</td>\n",
       "      <td>Can food replacements for “bad” food lead to w...</td>\n",
       "    </tr>\n",
       "    <tr>\n",
       "      <th>1</th>\n",
       "      <td>nutrition</td>\n",
       "      <td>What is the healthiest way to drink alcohol?</td>\n",
       "      <td>So, alcohol is not something you want as part ...</td>\n",
       "    </tr>\n",
       "    <tr>\n",
       "      <th>2</th>\n",
       "      <td>nutrition</td>\n",
       "      <td>Struggling losing weight</td>\n",
       "      <td>[removed]</td>\n",
       "    </tr>\n",
       "    <tr>\n",
       "      <th>3</th>\n",
       "      <td>nutrition</td>\n",
       "      <td>calcium RDI - how would you achieve this figur...</td>\n",
       "      <td>dairy has gotten a bad rap for its saturated f...</td>\n",
       "    </tr>\n",
       "    <tr>\n",
       "      <th>4</th>\n",
       "      <td>nutrition</td>\n",
       "      <td>calcium RDI - how would you achieve this figur...</td>\n",
       "      <td>[removed]</td>\n",
       "    </tr>\n",
       "    <tr>\n",
       "      <th>...</th>\n",
       "      <td>...</td>\n",
       "      <td>...</td>\n",
       "      <td>...</td>\n",
       "    </tr>\n",
       "    <tr>\n",
       "      <th>95</th>\n",
       "      <td>nutrition</td>\n",
       "      <td>How much mussels per day/week/month should I e...</td>\n",
       "      <td>[removed]</td>\n",
       "    </tr>\n",
       "    <tr>\n",
       "      <th>96</th>\n",
       "      <td>nutrition</td>\n",
       "      <td>Is protein powder good or bad?</td>\n",
       "      <td>[removed]</td>\n",
       "    </tr>\n",
       "    <tr>\n",
       "      <th>97</th>\n",
       "      <td>nutrition</td>\n",
       "      <td>Expired protein powder consumption yes or no?</td>\n",
       "      <td>[removed]</td>\n",
       "    </tr>\n",
       "    <tr>\n",
       "      <th>98</th>\n",
       "      <td>nutrition</td>\n",
       "      <td>Protein Powder consumption after the Expiry date</td>\n",
       "      <td>[removed]</td>\n",
       "    </tr>\n",
       "    <tr>\n",
       "      <th>99</th>\n",
       "      <td>nutrition</td>\n",
       "      <td>Is sugar really that bad if consumed everyday ...</td>\n",
       "      <td>[removed]</td>\n",
       "    </tr>\n",
       "  </tbody>\n",
       "</table>\n",
       "<p>10000 rows × 3 columns</p>\n",
       "</div>"
      ],
      "text/plain": [
       "    subreddit                                              title  \\\n",
       "0   nutrition  Can diet soda/sugar alcohols cause water reten...   \n",
       "1   nutrition       What is the healthiest way to drink alcohol?   \n",
       "2   nutrition                           Struggling losing weight   \n",
       "3   nutrition  calcium RDI - how would you achieve this figur...   \n",
       "4   nutrition  calcium RDI - how would you achieve this figur...   \n",
       "..        ...                                                ...   \n",
       "95  nutrition  How much mussels per day/week/month should I e...   \n",
       "96  nutrition                     Is protein powder good or bad?   \n",
       "97  nutrition      Expired protein powder consumption yes or no?   \n",
       "98  nutrition   Protein Powder consumption after the Expiry date   \n",
       "99  nutrition  Is sugar really that bad if consumed everyday ...   \n",
       "\n",
       "                                             selftext  \n",
       "0   Can food replacements for “bad” food lead to w...  \n",
       "1   So, alcohol is not something you want as part ...  \n",
       "2                                           [removed]  \n",
       "3   dairy has gotten a bad rap for its saturated f...  \n",
       "4                                           [removed]  \n",
       "..                                                ...  \n",
       "95                                          [removed]  \n",
       "96                                          [removed]  \n",
       "97                                          [removed]  \n",
       "98                                          [removed]  \n",
       "99                                          [removed]  \n",
       "\n",
       "[10000 rows x 3 columns]"
      ]
     },
     "execution_count": 9,
     "metadata": {},
     "output_type": "execute_result"
    }
   ],
   "source": [
    "# check what was collected\n",
    "\n",
    "nutrition_subs"
   ]
  },
  {
   "cell_type": "code",
   "execution_count": 10,
   "metadata": {},
   "outputs": [],
   "source": [
    "# filter out for '[removed]'\n",
    "\n",
    "nutrition_subs = nutrition_subs[nutrition_subs['selftext'] != '[removed]']"
   ]
  },
  {
   "cell_type": "code",
   "execution_count": 11,
   "metadata": {},
   "outputs": [],
   "source": [
    "# filter out for '[deleted]'\n",
    "\n",
    "nutrition_subs = nutrition_subs[nutrition_subs['selftext'] != '[deleted]']"
   ]
  },
  {
   "cell_type": "code",
   "execution_count": 12,
   "metadata": {},
   "outputs": [
    {
     "data": {
      "text/plain": [
       "subreddit      0\n",
       "title          0\n",
       "selftext     211\n",
       "dtype: int64"
      ]
     },
     "execution_count": 12,
     "metadata": {},
     "output_type": "execute_result"
    }
   ],
   "source": [
    "# check for null values\n",
    "\n",
    "nutrition_subs.isna().sum()"
   ]
  },
  {
   "cell_type": "code",
   "execution_count": 13,
   "metadata": {},
   "outputs": [],
   "source": [
    "# drop null values\n",
    "\n",
    "nutrition_subs.dropna(inplace = True)"
   ]
  },
  {
   "cell_type": "code",
   "execution_count": 14,
   "metadata": {},
   "outputs": [
    {
     "data": {
      "text/plain": [
       "subreddit    0\n",
       "title        0\n",
       "selftext     0\n",
       "dtype: int64"
      ]
     },
     "execution_count": 14,
     "metadata": {},
     "output_type": "execute_result"
    }
   ],
   "source": [
    "# ensure null values were dropped\n",
    "\n",
    "nutrition_subs.isna().sum()"
   ]
  },
  {
   "cell_type": "code",
   "execution_count": 15,
   "metadata": {},
   "outputs": [
    {
     "data": {
      "text/plain": [
       "Question about muscles and vitamins.                                                                             24\n",
       "/r/Nutrition Weekly Personal Nutrition Discussion Post - All Personal Diet Questions Go Here                     13\n",
       "Seeking diet advice for an suboptimal diet environment.                                                          12\n",
       "What foods will make me release lots of farts and they smell bad?                                                12\n",
       "Is it okay to workout on an empty stomach in the morning, and have a small mid workout snack?                    12\n",
       "                                                                                                                 ..\n",
       "Calculate macro percentages from nutrition label?                                                                 1\n",
       "Cookbook meal prep healthy gut?                                                                                   1\n",
       "Daily macro goals                                                                                                 1\n",
       "Are there any side-effects to swallowing a clove of garlic a day?                                                 1\n",
       "Anyone think a food with explicitly high calories etc to make you full would be a good diet helper ironically     1\n",
       "Name: title, Length: 3109, dtype: int64"
      ]
     },
     "execution_count": 15,
     "metadata": {},
     "output_type": "execute_result"
    }
   ],
   "source": [
    "# check 'title' column\n",
    "\n",
    "nutrition_subs['title'].value_counts(ascending = False)"
   ]
  },
  {
   "cell_type": "code",
   "execution_count": 16,
   "metadata": {},
   "outputs": [],
   "source": [
    "# referenced https://pandas.pydata.org/docs/reference/api/pandas.DataFrame.drop_duplicates.html\n",
    "# dropping dupicate titles\n",
    "\n",
    "nutrition_subs.drop_duplicates(subset = ['title'], inplace = True)"
   ]
  },
  {
   "cell_type": "code",
   "execution_count": 17,
   "metadata": {},
   "outputs": [
    {
     "data": {
      "text/plain": [
       "Welcome to Science Friday here in /r/Nutrition.  This is the weekly post for science supported discussion on the latest news, developments, and research in nutrition science.   \\n\\n**Rules for Discussion**\\n\\n* This post is only for discussion of recent nutrition news and research. \\n\\n* ALL responses must support any claims made by including links to science based evidence / studies / data. Including those listed below, other sources of nutrition information can be found at the [**USDA Food Composition Database**](https://ndb.nal.usda.gov/ndb/search/list), [**NutritionData**](http://nutritiondata.self.com/), [**Nutrition Journal**](https://nutritionj.biomedcentral.com/), and [**Nutrition.gov**](https://www.nutrition.gov/) (a service of the National Agricultural Library).\\n\\n* Keep it civil. [reddiquette](https://www.reddit.com/wiki/reddiquette/) is required**. If you disagree about the science, the source(s), or the interpretation(s) then you must do so civilly.  Any personal attacks will be removed and can lead to a ban.  Please let moderators know of these kinds of issues by using the report button below any comments containing personal attacks.\\n\\n**Sites which may have recent articles, publications, or news on nutrition**\\n\\n* [**PubMed**](http://www.ncbi.nlm.nih.gov/pubmed/)\\n\\n* [Recent articles on PubMed specifically from the Amercian Journal of Clinical Nutrition](https://www.ncbi.nlm.nih.gov/pubmed/?term=Am+J+Clin+Nutr%5BJOUR%5D+AND+2018)\\n\\n* [**Recent studies and articles listed with Google Scholar which have common nutrition terms in the title**](https://scholar.google.com/scholar?hl=en&amp;as_sdt=1,47&amp;q=allintitle:+nutrition+OR+vitamin+OR+omega+OR+cholesterol+OR+sugar+OR+fat+OR+sodium+OR+carbohydrates+OR+fiber+OR+protein+OR+calcium+OR+iron+OR+potassium&amp;scisbd=1)\\n\\n* https://www.sciencedaily.com/news/health_medicine/nutrition/\\n\\n* https://www.nhs.uk/news/food-and-diet/\\n\\n* http://www.foodandnutrition.org/Nutrition-News/\\n\\n* https://www.hsph.harvard.edu/nutritionsource/nutrition-news/\\n\\n* https://www.usnews.com/topics/subjects/diet-and-nutrition\\n\\n* http://www.medicalnewstoday.com/categories/nutrition-diet\\n\\n* http://www.foxnews.com/category/health/nutrition-and-fitness.html\\n    \\n* http://www.nbcnews.com/health\\n\\n**Where you can find RSS Feeds on Nutrition**\\n\\n* http://pubs.nutrition.org/site/rss/index.xhtml\\n\\n* https://www.fns.usda.gov/food-nutrition-rss-directory\\n\\n* https://www.nutrition.gov/news-and-spotlights/rss-news-feed\\n\\n* http://www.mayoclinic.org/about-this-site/rss-feeds\\n\\n* https://www.sciencedaily.com/news/health_medicine/nutrition/\\n\\n* http://www.health.com/rss\\n\\nWhat nutrition news from this past week do you think is interesting or significant?\\n\\nWant to make a post about a study you think is interesting or important?  Put the right info in it, and it will get special flair! For more info, see our wiki page about it - /r/nutrition/wiki/studyposts    9\n",
       "                                                                                                                                                                                                                                                                                                                                                                                                                                                                                                                                                                                                                                                                                                                                                                                                                                                                                                                                                                                                                                                                                                                                                                                                                                                                                                                                                                                                                                                                                                                                                                                                                                                                                                                                                                                                                                                                                                                                                                                                                                                                                                                                                                                                                                                                                                                                                                                                                                                                                                                                                                                                                                                                                                                                                                                                                                                                                                                                                                                                                                                                            8\n",
       "Welcome to the weekly /r/Nutrition feature post for personal circumstance questions and diet evaluation requests.  Wondering if you are eating too much of something, not enough of something, or if what you regularly eat has the nutritional content you want or need?  Ask here.   \\n\\n**Rules for Questions**\\n\\n* Nutrition related questions about your specific diet may be asked.  However, before asking, please remember to check [**the FAQ**](https://www.reddit.com/r/nutrition/wiki/faq#/c/purple/) first and see if it has already been covered in the subreddit.\\n\\n* You MAY NOT ask for advice as to how a nutritional choice would impact a specific medial condition. Consult a professional.\\n\\n* If you do not get an answer here, you still may not create a post about it. Not having an answer does not give you an exception to the Personal Nutrition posting rule.\\n\\n**Rules for Responders**\\n\\n* Support your claims - Where applicable ALL responses should support any claims made by including links to science based evidence / studies / data. Need to find the evidence and track down primary sources? Try looking for information at [**PubMed**](http://www.ncbi.nlm.nih.gov/pubmed/) or [**Google Scholar**](http://www.scholar.google.com). Other sources of nutrition information can be found at the [**USDA Food Composition Database**](https://ndb.nal.usda.gov/ndb/search/list), [**NutritionData**](http://nutritiondata.self.com/), [**Nutrition Journal**](https://nutritionj.biomedcentral.com/), and [**Nutrition.gov**](https://www.nutrition.gov/) (a service of the National Agricultural Library).\\n\\n* Keep it civil - Converse WITH the other person rather than conversing ABOUT the other person. If you disagree about the science, the source(s), or the interpretation(s) then do so civilly.  Any personal attacks will be removed and may lead to a ban. Let moderators know of these kinds of issues by using the report button below any comments containing personal attacks.\\n\\n* Keep it on topic - This subreddit is for discussion about nutrition.  Disparaging commentary about others is off topic.  Non-nutritional facets of food are even off topic.  Off topic comments will be removed. Let moderators know of these kinds of issues by using the report button below any comments which are off topic.                                                                                                                                                                                                                                                                                                                                                                                                                                                                                                                                                                                                                                                                                   7\n",
       "Title                                                                                                                                                                                                                                                                                                                                                                                                                                                                                                                                                                                                                                                                                                                                                                                                                                                                                                                                                                                                                                                                                                                                                                                                                                                                                                                                                                                                                                                                                                                                                                                                                                                                                                                                                                                                                                                                                                                                                                                                                                                                                                                                                                                                                                                                                                                                                                                                                                                                                                                                                                                                                                                                                                                                                                                                                                                                                                                                                                                                                                                                       5\n",
       ".                                                                                                                                                                                                                                                                                                                                                                                                                                                                                                                                                                                                                                                                                                                                                                                                                                                                                                                                                                                                                                                                                                                                                                                                                                                                                                                                                                                                                                                                                                                                                                                                                                                                                                                                                                                                                                                                                                                                                                                                                                                                                                                                                                                                                                                                                                                                                                                                                                                                                                                                                                                                                                                                                                                                                                                                                                                                                                                                                                                                                                                                           3\n",
       "                                                                                                                                                                                                                                                                                                                                                                                                                                                                                                                                                                                                                                                                                                                                                                                                                                                                                                                                                                                                                                                                                                                                                                                                                                                                                                                                                                                                                                                                                                                                                                                                                                                                                                                                                                                                                                                                                                                                                                                                                                                                                                                                                                                                                                                                                                                                                                                                                                                                                                                                                                                                                                                                                                                                                                                                                                                                                                                                                                                                                                                                           ..\n",
       "I took the last two weeks off of the gym and creatine. Can I jump right back into taking creatine or do I need to cycle back on?                                                                                                                                                                                                                                                                                                                                                                                                                                                                                                                                                                                                                                                                                                                                                                                                                                                                                                                                                                                                                                                                                                                                                                                                                                                                                                                                                                                                                                                                                                                                                                                                                                                                                                                                                                                                                                                                                                                                                                                                                                                                                                                                                                                                                                                                                                                                                                                                                                                                                                                                                                                                                                                                                                                                                                                                                                                                                                                                            1\n",
       "I am a pescatarian right now. I used to be vegan, but due to some complicated health issues my doctor told me I MUST have some meat for my kidney health, so sometimes I have fish. I try to be vegan as much as I can, please be kind in your comments.( not like meat my parents careful me need eat a fish stand)                                                                                                                                                                                                                                                                                                                                                                                                                                                                                                                                                                                                                                                                                                                                                                                                                                                                                                                                                                                                                                                                                                                                                                                                                                                                                                                                                                                                                                                                                                                                                                                                                                                                                                                                                                                                                                                                                                                                                                                                                                                                                                                                                                                                                                                                                                                                                                                                                                                                                                                                                                                                                                                                                                                                                        1\n",
       "Sorry for the blunt question.\\n\\nI was on chronometer today, and realized that if I take a multivitamin everyday, it actually meets all my micronutrient requirements. Is it really this easy?                                                                                                                                                                                                                                                                                                                                                                                                                                                                                                                                                                                                                                                                                                                                                                                                                                                                                                                                                                                                                                                                                                                                                                                                                                                                                                                                                                                                                                                                                                                                                                                                                                                                                                                                                                                                                                                                                                                                                                                                                                                                                                                                                                                                                                                                                                                                                                                                                                                                                                                                                                                                                                                                                                                                                                                                                                                                              1\n",
       "Hi looking for a workout and meal planner/program looking to loose weight.\\nStats: male \\n25 \\n195cm \\n130kgs\\nAll information and help much appreciated. \\nThanks                                                                                                                                                                                                                                                                                                                                                                                                                                                                                                                                                                                                                                                                                                                                                                                                                                                                                                                                                                                                                                                                                                                                                                                                                                                                                                                                                                                                                                                                                                                                                                                                                                                                                                                                                                                                                                                                                                                                                                                                                                                                                                                                                                                                                                                                                                                                                                                                                                                                                                                                                                                                                                                                                                                                                                                                                                                                                                          1\n",
       "This is not a fad thing. I know bone broth is just a well marketed stock. \\n\\nI am having DJS in a month and need water thin liquids for a few days. I hope I can also have pureed soups during this time, but my surgeon said to prepare just in case as I'll most likely be using a syringe for meals to begin with. Anything thicker than water will block the syringe and I want a savoury option instead of just sweet protein/meal replacement shakes. Bone broth is something often recommended.                                                                                                                                                                                                                                                                                                                                                                                                                                                                                                                                                                                                                                                                                                                                                                                                                                                                                                                                                                                                                                                                                                                                                                                                                                                                                                                                                                                                                                                                                                                                                                                                                                                                                                                                                                                                                                                                                                                                                                                                                                                                                                                                                                                                                                                                                                                                                                                                                                                                                                                                                                     1\n",
       "Name: selftext, Length: 3071, dtype: int64"
      ]
     },
     "execution_count": 17,
     "metadata": {},
     "output_type": "execute_result"
    }
   ],
   "source": [
    "# check 'selftext' column\n",
    "\n",
    "nutrition_subs['selftext'].value_counts(ascending = False)"
   ]
  },
  {
   "cell_type": "code",
   "execution_count": 18,
   "metadata": {},
   "outputs": [],
   "source": [
    "# also drop duplicates of 'selftext'\n",
    "\n",
    "nutrition_subs.drop_duplicates(subset = ['selftext'], inplace = True)"
   ]
  },
  {
   "cell_type": "code",
   "execution_count": 19,
   "metadata": {},
   "outputs": [
    {
     "data": {
      "text/plain": [
       "(3071, 3)"
      ]
     },
     "execution_count": 19,
     "metadata": {},
     "output_type": "execute_result"
    }
   ],
   "source": [
    "# check shape to see how many rows are left\n",
    "\n",
    "nutrition_subs.shape"
   ]
  },
  {
   "cell_type": "code",
   "execution_count": 20,
   "metadata": {},
   "outputs": [],
   "source": [
    "# reset index after dropping all the rows from cleaning\n",
    "\n",
    "nutrition_subs.reset_index(drop = True, inplace = True)"
   ]
  },
  {
   "cell_type": "code",
   "execution_count": 21,
   "metadata": {},
   "outputs": [
    {
     "data": {
      "text/html": [
       "<div>\n",
       "<style scoped>\n",
       "    .dataframe tbody tr th:only-of-type {\n",
       "        vertical-align: middle;\n",
       "    }\n",
       "\n",
       "    .dataframe tbody tr th {\n",
       "        vertical-align: top;\n",
       "    }\n",
       "\n",
       "    .dataframe thead th {\n",
       "        text-align: right;\n",
       "    }\n",
       "</style>\n",
       "<table border=\"1\" class=\"dataframe\">\n",
       "  <thead>\n",
       "    <tr style=\"text-align: right;\">\n",
       "      <th></th>\n",
       "      <th>subreddit</th>\n",
       "      <th>title</th>\n",
       "      <th>selftext</th>\n",
       "    </tr>\n",
       "  </thead>\n",
       "  <tbody>\n",
       "    <tr>\n",
       "      <th>0</th>\n",
       "      <td>nutrition</td>\n",
       "      <td>Can diet soda/sugar alcohols cause water reten...</td>\n",
       "      <td>Can food replacements for “bad” food lead to w...</td>\n",
       "    </tr>\n",
       "    <tr>\n",
       "      <th>1</th>\n",
       "      <td>nutrition</td>\n",
       "      <td>What is the healthiest way to drink alcohol?</td>\n",
       "      <td>So, alcohol is not something you want as part ...</td>\n",
       "    </tr>\n",
       "    <tr>\n",
       "      <th>2</th>\n",
       "      <td>nutrition</td>\n",
       "      <td>calcium RDI - how would you achieve this figur...</td>\n",
       "      <td>dairy has gotten a bad rap for its saturated f...</td>\n",
       "    </tr>\n",
       "    <tr>\n",
       "      <th>3</th>\n",
       "      <td>nutrition</td>\n",
       "      <td>Are there nutritional drawbacks to eating too ...</td>\n",
       "      <td>Hey r/nutrition. I’m a newbie in this field bu...</td>\n",
       "    </tr>\n",
       "    <tr>\n",
       "      <th>4</th>\n",
       "      <td>nutrition</td>\n",
       "      <td>You think vega one have all essential vitamins?</td>\n",
       "      <td>Looking for that extra protein powder with som...</td>\n",
       "    </tr>\n",
       "    <tr>\n",
       "      <th>...</th>\n",
       "      <td>...</td>\n",
       "      <td>...</td>\n",
       "      <td>...</td>\n",
       "    </tr>\n",
       "    <tr>\n",
       "      <th>3066</th>\n",
       "      <td>nutrition</td>\n",
       "      <td>What are y'alls thoughts on this? Any research...</td>\n",
       "      <td>[https://www.youtube.com/watch?v=jwagCofBDj8&amp;a...</td>\n",
       "    </tr>\n",
       "    <tr>\n",
       "      <th>3067</th>\n",
       "      <td>nutrition</td>\n",
       "      <td>Nutrition Question</td>\n",
       "      <td>You are watching the Kansas City Chiefs and Sa...</td>\n",
       "    </tr>\n",
       "    <tr>\n",
       "      <th>3068</th>\n",
       "      <td>nutrition</td>\n",
       "      <td>Nutrition For Spinal Discs</td>\n",
       "      <td>Have you seen anything about strengthening spi...</td>\n",
       "    </tr>\n",
       "    <tr>\n",
       "      <th>3069</th>\n",
       "      <td>nutrition</td>\n",
       "      <td>Nutrients in homemade organ broth</td>\n",
       "      <td>I don’t like eating solid lamb/beef organs, bu...</td>\n",
       "    </tr>\n",
       "    <tr>\n",
       "      <th>3070</th>\n",
       "      <td>nutrition</td>\n",
       "      <td>How many mussels per day/week/month should som...</td>\n",
       "      <td>Without obtaining this nutrients from any othe...</td>\n",
       "    </tr>\n",
       "  </tbody>\n",
       "</table>\n",
       "<p>3071 rows × 3 columns</p>\n",
       "</div>"
      ],
      "text/plain": [
       "      subreddit                                              title  \\\n",
       "0     nutrition  Can diet soda/sugar alcohols cause water reten...   \n",
       "1     nutrition       What is the healthiest way to drink alcohol?   \n",
       "2     nutrition  calcium RDI - how would you achieve this figur...   \n",
       "3     nutrition  Are there nutritional drawbacks to eating too ...   \n",
       "4     nutrition    You think vega one have all essential vitamins?   \n",
       "...         ...                                                ...   \n",
       "3066  nutrition  What are y'alls thoughts on this? Any research...   \n",
       "3067  nutrition                                 Nutrition Question   \n",
       "3068  nutrition                         Nutrition For Spinal Discs   \n",
       "3069  nutrition                  Nutrients in homemade organ broth   \n",
       "3070  nutrition  How many mussels per day/week/month should som...   \n",
       "\n",
       "                                               selftext  \n",
       "0     Can food replacements for “bad” food lead to w...  \n",
       "1     So, alcohol is not something you want as part ...  \n",
       "2     dairy has gotten a bad rap for its saturated f...  \n",
       "3     Hey r/nutrition. I’m a newbie in this field bu...  \n",
       "4     Looking for that extra protein powder with som...  \n",
       "...                                                 ...  \n",
       "3066  [https://www.youtube.com/watch?v=jwagCofBDj8&a...  \n",
       "3067  You are watching the Kansas City Chiefs and Sa...  \n",
       "3068  Have you seen anything about strengthening spi...  \n",
       "3069  I don’t like eating solid lamb/beef organs, bu...  \n",
       "3070  Without obtaining this nutrients from any othe...  \n",
       "\n",
       "[3071 rows x 3 columns]"
      ]
     },
     "execution_count": 21,
     "metadata": {},
     "output_type": "execute_result"
    }
   ],
   "source": [
    "# final review of the nutrition df before writing to csv\n",
    "\n",
    "nutrition_subs"
   ]
  },
  {
   "cell_type": "code",
   "execution_count": 22,
   "metadata": {},
   "outputs": [],
   "source": [
    "# write cleaned keto Submissions to CSV\n",
    "\n",
    "nutrition_subs.to_csv('nutrition_subs.csv', index = False)"
   ]
  },
  {
   "cell_type": "markdown",
   "metadata": {},
   "source": [
    "### Summary:\n",
    "- Collected Keto + Nutrition Subreddit Submissions data\n",
    "- Basic data cleaning\n",
    "    - Dropping duplicate entries of 'title' and 'selftext'\n",
    "    - Dropping null values ([removed], [deleted], etc.)\n",
    "\n",
    "### Next Steps:\n",
    "- Concat both subreddits and begin modeling!"
   ]
  }
 ],
 "metadata": {
  "kernelspec": {
   "display_name": "Python 3",
   "language": "python",
   "name": "python3"
  },
  "language_info": {
   "codemirror_mode": {
    "name": "ipython",
    "version": 3
   },
   "file_extension": ".py",
   "mimetype": "text/x-python",
   "name": "python",
   "nbconvert_exporter": "python",
   "pygments_lexer": "ipython3",
   "version": "3.7.4"
  }
 },
 "nbformat": 4,
 "nbformat_minor": 4
}
