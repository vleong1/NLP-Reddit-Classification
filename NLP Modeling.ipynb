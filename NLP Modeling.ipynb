{
 "cells": [
  {
   "cell_type": "markdown",
   "metadata": {},
   "source": [
    "# Modeling & Analysis\n",
    "\n",
    "### Jump to content:\n",
    "- [Read in Keto + Nutrition Submissions data](#Read-in-Keto-+-Nutrition-Submissions-data)\n",
    "- [Lemmatizing 'selftext'](#Lemmatize-words-before-analysis)\n",
    "- [Subreddit EDA](#Subreddit-EDA)\n",
    "- [Modeling](#Modeling)\n",
    "    - Binarizing Target variable\n",
    "    - Train / Test / Split\n",
    "    - Models Tested + Interpretations:\n",
    "        - [Multinomial Naive Bayes w/ CountVectorizer](#Multinomial-Naive-Bayes-w/-CountVectorizer)\n",
    "        - [Multinomial Naive Bayes w/ TfidfVectorizer](#Multinomial-Naive-Bayes-w/-TfidfVectorizer)\n",
    "        - [Logistic Regression w/ CountVectorizer](#Logistic-Regression-Naive-Bayes-w/-CountVectorizer)\n",
    "        - [Logistic Regression w/ TfidfVectorizer <-- (BEST MODEL)](#Logistic-Regression-w/-TfidfVectorizer-(BEST-MODEL))\n",
    "        - [Random Forest Classifier w/ CountVectorizer](#Random-Forest-w/-Naive-Bayes-w/-CountVectorizer)\n",
    "- [Conclusion](#Conclusion)\n",
    "- [Recommendations](#Recommendations)\n",
    "- [Future Project Refinements](#Future-Project-Refinements)"
   ]
  },
  {
   "cell_type": "markdown",
   "metadata": {},
   "source": [
    "### Import necessary packages"
   ]
  },
  {
   "cell_type": "code",
   "execution_count": 25,
   "metadata": {},
   "outputs": [],
   "source": [
    "import matplotlib.pyplot as plt\n",
    "import seaborn as sns\n",
    "import numpy as np\n",
    "import pandas as pd\n",
    "import spacy\n",
    "\n",
    "from sklearn.model_selection import train_test_split, GridSearchCV, cross_val_score\n",
    "from sklearn.feature_extraction.text import CountVectorizer, TfidfVectorizer\n",
    "from sklearn.inspection import permutation_importance\n",
    "\n",
    "from sklearn.pipeline import make_pipeline\n",
    "\n",
    "from sklearn.naive_bayes import MultinomialNB\n",
    "from sklearn.linear_model import LogisticRegression\n",
    "from sklearn.ensemble import RandomForestClassifier\n",
    "\n",
    "from sklearn.metrics import plot_confusion_matrix, confusion_matrix, recall_score, precision_score, f1_score\n"
   ]
  },
  {
   "cell_type": "markdown",
   "metadata": {},
   "source": [
    "### Read in Keto + Nutrition Submissions data"
   ]
  },
  {
   "cell_type": "code",
   "execution_count": 2,
   "metadata": {},
   "outputs": [],
   "source": [
    "keto = pd.read_csv('data/keto_subs.csv')\n",
    "nutrition = pd.read_csv('data/nutrition_subs.csv')"
   ]
  },
  {
   "cell_type": "code",
   "execution_count": 4,
   "metadata": {},
   "outputs": [
    {
     "data": {
      "text/html": [
       "<div>\n",
       "<style scoped>\n",
       "    .dataframe tbody tr th:only-of-type {\n",
       "        vertical-align: middle;\n",
       "    }\n",
       "\n",
       "    .dataframe tbody tr th {\n",
       "        vertical-align: top;\n",
       "    }\n",
       "\n",
       "    .dataframe thead th {\n",
       "        text-align: right;\n",
       "    }\n",
       "</style>\n",
       "<table border=\"1\" class=\"dataframe\">\n",
       "  <thead>\n",
       "    <tr style=\"text-align: right;\">\n",
       "      <th></th>\n",
       "      <th>subreddit</th>\n",
       "      <th>title</th>\n",
       "      <th>selftext</th>\n",
       "    </tr>\n",
       "  </thead>\n",
       "  <tbody>\n",
       "    <tr>\n",
       "      <th>0</th>\n",
       "      <td>keto</td>\n",
       "      <td>Can stress kick you out of keto? Cortisol ques...</td>\n",
       "      <td>So I've been losing a steady 4 lbs a week for ...</td>\n",
       "    </tr>\n",
       "    <tr>\n",
       "      <th>1</th>\n",
       "      <td>keto</td>\n",
       "      <td>down almost 20 lbs before and after pics (slig...</td>\n",
       "      <td>I'm 23, and 5'6. I was someone who struggled w...</td>\n",
       "    </tr>\n",
       "    <tr>\n",
       "      <th>2</th>\n",
       "      <td>keto</td>\n",
       "      <td>Pulsatile tinnitus and Keto</td>\n",
       "      <td>I have been doing Keto for around 10 weeks, ha...</td>\n",
       "    </tr>\n",
       "    <tr>\n",
       "      <th>3</th>\n",
       "      <td>keto</td>\n",
       "      <td>Does Keto Work? (Emphatic Yes)</td>\n",
       "      <td>Preface - Over 50 Soldier here. (Male)\\n\\nDepl...</td>\n",
       "    </tr>\n",
       "    <tr>\n",
       "      <th>4</th>\n",
       "      <td>keto</td>\n",
       "      <td>Homemade meal replacement type shake recipe thing</td>\n",
       "      <td>I really struggle to get enough calories in on...</td>\n",
       "    </tr>\n",
       "  </tbody>\n",
       "</table>\n",
       "</div>"
      ],
      "text/plain": [
       "  subreddit                                              title  \\\n",
       "0      keto  Can stress kick you out of keto? Cortisol ques...   \n",
       "1      keto  down almost 20 lbs before and after pics (slig...   \n",
       "2      keto                        Pulsatile tinnitus and Keto   \n",
       "3      keto                     Does Keto Work? (Emphatic Yes)   \n",
       "4      keto  Homemade meal replacement type shake recipe thing   \n",
       "\n",
       "                                            selftext  \n",
       "0  So I've been losing a steady 4 lbs a week for ...  \n",
       "1  I'm 23, and 5'6. I was someone who struggled w...  \n",
       "2  I have been doing Keto for around 10 weeks, ha...  \n",
       "3  Preface - Over 50 Soldier here. (Male)\\n\\nDepl...  \n",
       "4  I really struggle to get enough calories in on...  "
      ]
     },
     "execution_count": 4,
     "metadata": {},
     "output_type": "execute_result"
    }
   ],
   "source": [
    "keto.head()"
   ]
  },
  {
   "cell_type": "code",
   "execution_count": 5,
   "metadata": {},
   "outputs": [
    {
     "data": {
      "text/html": [
       "<div>\n",
       "<style scoped>\n",
       "    .dataframe tbody tr th:only-of-type {\n",
       "        vertical-align: middle;\n",
       "    }\n",
       "\n",
       "    .dataframe tbody tr th {\n",
       "        vertical-align: top;\n",
       "    }\n",
       "\n",
       "    .dataframe thead th {\n",
       "        text-align: right;\n",
       "    }\n",
       "</style>\n",
       "<table border=\"1\" class=\"dataframe\">\n",
       "  <thead>\n",
       "    <tr style=\"text-align: right;\">\n",
       "      <th></th>\n",
       "      <th>subreddit</th>\n",
       "      <th>title</th>\n",
       "      <th>selftext</th>\n",
       "    </tr>\n",
       "  </thead>\n",
       "  <tbody>\n",
       "    <tr>\n",
       "      <th>0</th>\n",
       "      <td>nutrition</td>\n",
       "      <td>Can diet soda/sugar alcohols cause water reten...</td>\n",
       "      <td>Can food replacements for “bad” food lead to w...</td>\n",
       "    </tr>\n",
       "    <tr>\n",
       "      <th>1</th>\n",
       "      <td>nutrition</td>\n",
       "      <td>What is the healthiest way to drink alcohol?</td>\n",
       "      <td>So, alcohol is not something you want as part ...</td>\n",
       "    </tr>\n",
       "    <tr>\n",
       "      <th>2</th>\n",
       "      <td>nutrition</td>\n",
       "      <td>calcium RDI - how would you achieve this figur...</td>\n",
       "      <td>dairy has gotten a bad rap for its saturated f...</td>\n",
       "    </tr>\n",
       "    <tr>\n",
       "      <th>3</th>\n",
       "      <td>nutrition</td>\n",
       "      <td>Are there nutritional drawbacks to eating too ...</td>\n",
       "      <td>Hey r/nutrition. I’m a newbie in this field bu...</td>\n",
       "    </tr>\n",
       "    <tr>\n",
       "      <th>4</th>\n",
       "      <td>nutrition</td>\n",
       "      <td>You think vega one have all essential vitamins?</td>\n",
       "      <td>Looking for that extra protein powder with som...</td>\n",
       "    </tr>\n",
       "  </tbody>\n",
       "</table>\n",
       "</div>"
      ],
      "text/plain": [
       "   subreddit                                              title  \\\n",
       "0  nutrition  Can diet soda/sugar alcohols cause water reten...   \n",
       "1  nutrition       What is the healthiest way to drink alcohol?   \n",
       "2  nutrition  calcium RDI - how would you achieve this figur...   \n",
       "3  nutrition  Are there nutritional drawbacks to eating too ...   \n",
       "4  nutrition    You think vega one have all essential vitamins?   \n",
       "\n",
       "                                            selftext  \n",
       "0  Can food replacements for “bad” food lead to w...  \n",
       "1  So, alcohol is not something you want as part ...  \n",
       "2  dairy has gotten a bad rap for its saturated f...  \n",
       "3  Hey r/nutrition. I’m a newbie in this field bu...  \n",
       "4  Looking for that extra protein powder with som...  "
      ]
     },
     "execution_count": 5,
     "metadata": {},
     "output_type": "execute_result"
    }
   ],
   "source": [
    "nutrition.head()"
   ]
  },
  {
   "cell_type": "markdown",
   "metadata": {},
   "source": [
    "#### Look at a 'selftext' example to see if any further cleaning needs to be done"
   ]
  },
  {
   "cell_type": "code",
   "execution_count": 6,
   "metadata": {},
   "outputs": [
    {
     "data": {
      "text/plain": [
       "'Hello all!\\n\\nI’m on a coffee creamer hunt! Everything that I’ve tried  either tastes amazing, but has horrible inflammatory ingredients OR has amazing ingredients, but taste like cardboard! I’ve spent hundreds trying out new products and it’s making my pockets hurt. Not to mention how wasteful it is :(\\n\\nI’m looking for a liquid creamer with “clean” ingredients, but that tastes great! Thanks! :)'"
      ]
     },
     "execution_count": 6,
     "metadata": {},
     "output_type": "execute_result"
    }
   ],
   "source": [
    "# keto\n",
    "\n",
    "keto['selftext'][9]"
   ]
  },
  {
   "cell_type": "code",
   "execution_count": 3,
   "metadata": {},
   "outputs": [],
   "source": [
    "# remove '\\n' in selftext with .replace\n",
    "\n",
    "keto['selftext'] = keto['selftext'].str.replace('\\n', ' ')"
   ]
  },
  {
   "cell_type": "code",
   "execution_count": 8,
   "metadata": {},
   "outputs": [
    {
     "data": {
      "text/plain": [
       "'Hello all!  I’m on a coffee creamer hunt! Everything that I’ve tried  either tastes amazing, but has horrible inflammatory ingredients OR has amazing ingredients, but taste like cardboard! I’ve spent hundreds trying out new products and it’s making my pockets hurt. Not to mention how wasteful it is :(  I’m looking for a liquid creamer with “clean” ingredients, but that tastes great! Thanks! :)'"
      ]
     },
     "execution_count": 8,
     "metadata": {},
     "output_type": "execute_result"
    }
   ],
   "source": [
    "# ensure keto selftext is cleaned\n",
    "\n",
    "keto['selftext'][9]"
   ]
  },
  {
   "cell_type": "code",
   "execution_count": 9,
   "metadata": {},
   "outputs": [
    {
     "data": {
      "text/plain": [
       "'dairy has gotten a bad rap for its saturated fats.\\n\\nas a concussion sufferer I was told to stay away from dairy. I realized that I was not close to the RDI for calcium for years though. as such I started drinking milk again.\\n\\nafter looking at the calcium content for foods like salmon - which I eat a few times a week - it comes no where close to that of milk. salmon seems to be one of the foods highest in calcium after dairy. this suggests to me its very hard to hit the RDI for calcium without consuming dairy.\\n\\ncalcium supplements are said to be bad for the heart.\\n\\ncalcium is also required for the synthesis of vitamin d. \\n\\nim left consuming milk. im not asking - and have not decided yet - if milk is bad (although I am curious if you were to have an opinion on that). I am asking how would one achieve calcium RDI without dairy and calcium supplements. it seems impossible.'"
      ]
     },
     "execution_count": 9,
     "metadata": {},
     "output_type": "execute_result"
    }
   ],
   "source": [
    "# nutrition\n",
    "\n",
    "nutrition['selftext'][2]"
   ]
  },
  {
   "cell_type": "code",
   "execution_count": 4,
   "metadata": {},
   "outputs": [],
   "source": [
    "# remove '\\n' in selftext with .replace\n",
    "\n",
    "nutrition['selftext'] = nutrition['selftext'].str.replace('\\n', ' ')"
   ]
  },
  {
   "cell_type": "code",
   "execution_count": 11,
   "metadata": {},
   "outputs": [
    {
     "data": {
      "text/plain": [
       "'dairy has gotten a bad rap for its saturated fats.  as a concussion sufferer I was told to stay away from dairy. I realized that I was not close to the RDI for calcium for years though. as such I started drinking milk again.  after looking at the calcium content for foods like salmon - which I eat a few times a week - it comes no where close to that of milk. salmon seems to be one of the foods highest in calcium after dairy. this suggests to me its very hard to hit the RDI for calcium without consuming dairy.  calcium supplements are said to be bad for the heart.  calcium is also required for the synthesis of vitamin d.   im left consuming milk. im not asking - and have not decided yet - if milk is bad (although I am curious if you were to have an opinion on that). I am asking how would one achieve calcium RDI without dairy and calcium supplements. it seems impossible.'"
      ]
     },
     "execution_count": 11,
     "metadata": {},
     "output_type": "execute_result"
    }
   ],
   "source": [
    "# ensure nutrition selftext is cleaned\n",
    "\n",
    "nutrition['selftext'][2]"
   ]
  },
  {
   "cell_type": "markdown",
   "metadata": {},
   "source": [
    "### Concat Keto + Nutrition Subreddit Submissions"
   ]
  },
  {
   "cell_type": "code",
   "execution_count": 5,
   "metadata": {},
   "outputs": [],
   "source": [
    "submissions = pd.concat([keto, nutrition], ignore_index = True)"
   ]
  },
  {
   "cell_type": "code",
   "execution_count": 13,
   "metadata": {},
   "outputs": [
    {
     "data": {
      "text/html": [
       "<div>\n",
       "<style scoped>\n",
       "    .dataframe tbody tr th:only-of-type {\n",
       "        vertical-align: middle;\n",
       "    }\n",
       "\n",
       "    .dataframe tbody tr th {\n",
       "        vertical-align: top;\n",
       "    }\n",
       "\n",
       "    .dataframe thead th {\n",
       "        text-align: right;\n",
       "    }\n",
       "</style>\n",
       "<table border=\"1\" class=\"dataframe\">\n",
       "  <thead>\n",
       "    <tr style=\"text-align: right;\">\n",
       "      <th></th>\n",
       "      <th>subreddit</th>\n",
       "      <th>title</th>\n",
       "      <th>selftext</th>\n",
       "    </tr>\n",
       "  </thead>\n",
       "  <tbody>\n",
       "    <tr>\n",
       "      <th>0</th>\n",
       "      <td>keto</td>\n",
       "      <td>Can stress kick you out of keto? Cortisol ques...</td>\n",
       "      <td>So I've been losing a steady 4 lbs a week for ...</td>\n",
       "    </tr>\n",
       "    <tr>\n",
       "      <th>1</th>\n",
       "      <td>keto</td>\n",
       "      <td>down almost 20 lbs before and after pics (slig...</td>\n",
       "      <td>I'm 23, and 5'6. I was someone who struggled w...</td>\n",
       "    </tr>\n",
       "    <tr>\n",
       "      <th>2</th>\n",
       "      <td>keto</td>\n",
       "      <td>Pulsatile tinnitus and Keto</td>\n",
       "      <td>I have been doing Keto for around 10 weeks, ha...</td>\n",
       "    </tr>\n",
       "    <tr>\n",
       "      <th>3</th>\n",
       "      <td>keto</td>\n",
       "      <td>Does Keto Work? (Emphatic Yes)</td>\n",
       "      <td>Preface - Over 50 Soldier here. (Male)  Deploy...</td>\n",
       "    </tr>\n",
       "    <tr>\n",
       "      <th>4</th>\n",
       "      <td>keto</td>\n",
       "      <td>Homemade meal replacement type shake recipe thing</td>\n",
       "      <td>I really struggle to get enough calories in on...</td>\n",
       "    </tr>\n",
       "  </tbody>\n",
       "</table>\n",
       "</div>"
      ],
      "text/plain": [
       "  subreddit                                              title  \\\n",
       "0      keto  Can stress kick you out of keto? Cortisol ques...   \n",
       "1      keto  down almost 20 lbs before and after pics (slig...   \n",
       "2      keto                        Pulsatile tinnitus and Keto   \n",
       "3      keto                     Does Keto Work? (Emphatic Yes)   \n",
       "4      keto  Homemade meal replacement type shake recipe thing   \n",
       "\n",
       "                                            selftext  \n",
       "0  So I've been losing a steady 4 lbs a week for ...  \n",
       "1  I'm 23, and 5'6. I was someone who struggled w...  \n",
       "2  I have been doing Keto for around 10 weeks, ha...  \n",
       "3  Preface - Over 50 Soldier here. (Male)  Deploy...  \n",
       "4  I really struggle to get enough calories in on...  "
      ]
     },
     "execution_count": 13,
     "metadata": {},
     "output_type": "execute_result"
    }
   ],
   "source": [
    "submissions.head()"
   ]
  },
  {
   "cell_type": "code",
   "execution_count": 6,
   "metadata": {},
   "outputs": [
    {
     "data": {
      "text/plain": [
       "subreddit    0\n",
       "title        0\n",
       "selftext     2\n",
       "dtype: int64"
      ]
     },
     "execution_count": 6,
     "metadata": {},
     "output_type": "execute_result"
    }
   ],
   "source": [
    "# double check for nulls\n",
    "\n",
    "submissions.isna().sum()"
   ]
  },
  {
   "cell_type": "code",
   "execution_count": 6,
   "metadata": {},
   "outputs": [],
   "source": [
    "# drop nulls\n",
    "\n",
    "submissions.dropna(inplace = True)"
   ]
  },
  {
   "cell_type": "code",
   "execution_count": 8,
   "metadata": {},
   "outputs": [
    {
     "data": {
      "text/plain": [
       "subreddit    0\n",
       "title        0\n",
       "selftext     0\n",
       "dtype: int64"
      ]
     },
     "execution_count": 8,
     "metadata": {},
     "output_type": "execute_result"
    }
   ],
   "source": [
    "# ensure nulls are dropped\n",
    "\n",
    "submissions.isna().sum()"
   ]
  },
  {
   "cell_type": "markdown",
   "metadata": {},
   "source": [
    "----"
   ]
  },
  {
   "cell_type": "markdown",
   "metadata": {},
   "source": [
    "### Lemmatize words before analysis\n",
    "- Thought process: Get the root words of each selftext so that the models don't double-count words, such as 'eat', 'eats', 'eating'; 'carbs' and 'carb'"
   ]
  },
  {
   "cell_type": "code",
   "execution_count": 7,
   "metadata": {},
   "outputs": [],
   "source": [
    "nlp = spacy.load(\"en_core_web_sm\")"
   ]
  },
  {
   "cell_type": "code",
   "execution_count": 8,
   "metadata": {},
   "outputs": [],
   "source": [
    "def my_lemmatizer(submission):\n",
    "    \"\"\"\n",
    "    This function takes an extry and returns a lemmatized / root-word version.\n",
    "    \"\"\"\n",
    "    doc = nlp(submission)\n",
    "    sub_lemma = [word.lemma_ for word in doc]\n",
    "    return \" \".join(sub_lemma)"
   ]
  },
  {
   "cell_type": "code",
   "execution_count": 31,
   "metadata": {},
   "outputs": [
    {
     "data": {
      "text/plain": [
       "\"Are the diuretic effects of keto dangerous for a dialysis patient? I'm a 4  years in on keto, one and a half of those being zerocarb, so I'm well aware of the need for increased electrolytes. I just have a really bad feeling about mixing keto and dialysis. The internet articles I have read suggest keto would be a bad idea. I generally agree. Anyone on here think otherwise?  I'm looking to make a diet for my type 2 diabetic father on dialysis. Meal planning is pretty difficult because of the decreased phosphorous, potassium, and sodium allowed.  Thanks in advance.\""
      ]
     },
     "execution_count": 31,
     "metadata": {},
     "output_type": "execute_result"
    }
   ],
   "source": [
    "# pre-lemmatized text\n",
    "\n",
    "submissions['selftext'][7]"
   ]
  },
  {
   "cell_type": "code",
   "execution_count": 42,
   "metadata": {},
   "outputs": [
    {
     "data": {
      "text/plain": [
       "'be the diuretic effect of keto dangerous for a dialysis patient ? I be a 4   year in on keto , one and a half of those be zerocarb , so I be well aware of the need for increase electrolyte . I just have a really bad feeling about mix keto and dialysis . the internet article I have read suggest keto would be a bad idea . I generally agree . anyone on here think otherwise ?   I be look to make a diet for my type 2 diabetic father on dialysis . meal planning be pretty difficult because of the decrease phosphorous , potassium , and sodium allow .   thank in advance .'"
      ]
     },
     "execution_count": 42,
     "metadata": {},
     "output_type": "execute_result"
    }
   ],
   "source": [
    "# example lemmatized text with lemmatize function\n",
    "\n",
    "my_lemmatizer(submissions['selftext'][7])"
   ]
  },
  {
   "cell_type": "code",
   "execution_count": 9,
   "metadata": {},
   "outputs": [],
   "source": [
    "# referenced Group 4's NLP Hackathon code\n",
    "# creating a lemmatized column of 'selftext', so it'll harmonize well with CountVectorizer + TfidfVectorizer in our modeling\n",
    "\n",
    "submissions['clean_selftext'] = submissions['selftext'].map(my_lemmatizer)"
   ]
  },
  {
   "cell_type": "code",
   "execution_count": 11,
   "metadata": {},
   "outputs": [
    {
     "data": {
      "text/html": [
       "<div>\n",
       "<style scoped>\n",
       "    .dataframe tbody tr th:only-of-type {\n",
       "        vertical-align: middle;\n",
       "    }\n",
       "\n",
       "    .dataframe tbody tr th {\n",
       "        vertical-align: top;\n",
       "    }\n",
       "\n",
       "    .dataframe thead th {\n",
       "        text-align: right;\n",
       "    }\n",
       "</style>\n",
       "<table border=\"1\" class=\"dataframe\">\n",
       "  <thead>\n",
       "    <tr style=\"text-align: right;\">\n",
       "      <th></th>\n",
       "      <th>subreddit</th>\n",
       "      <th>title</th>\n",
       "      <th>selftext</th>\n",
       "      <th>clean_selftext</th>\n",
       "    </tr>\n",
       "  </thead>\n",
       "  <tbody>\n",
       "    <tr>\n",
       "      <th>0</th>\n",
       "      <td>keto</td>\n",
       "      <td>Can stress kick you out of keto? Cortisol ques...</td>\n",
       "      <td>So I've been losing a steady 4 lbs a week for ...</td>\n",
       "      <td>so I 've be lose a steady 4 lb a week for the ...</td>\n",
       "    </tr>\n",
       "    <tr>\n",
       "      <th>1</th>\n",
       "      <td>keto</td>\n",
       "      <td>down almost 20 lbs before and after pics (slig...</td>\n",
       "      <td>I'm 23, and 5'6. I was someone who struggled w...</td>\n",
       "      <td>I be 23 , and 5'6 . I be someone who struggle ...</td>\n",
       "    </tr>\n",
       "    <tr>\n",
       "      <th>2</th>\n",
       "      <td>keto</td>\n",
       "      <td>Pulsatile tinnitus and Keto</td>\n",
       "      <td>I have been doing Keto for around 10 weeks, ha...</td>\n",
       "      <td>I have be do Keto for around 10 week , have lo...</td>\n",
       "    </tr>\n",
       "    <tr>\n",
       "      <th>3</th>\n",
       "      <td>keto</td>\n",
       "      <td>Does Keto Work? (Emphatic Yes)</td>\n",
       "      <td>Preface - Over 50 Soldier here. (Male)  Deploy...</td>\n",
       "      <td>preface - over 50 soldier here . ( Male )   de...</td>\n",
       "    </tr>\n",
       "    <tr>\n",
       "      <th>4</th>\n",
       "      <td>keto</td>\n",
       "      <td>Homemade meal replacement type shake recipe thing</td>\n",
       "      <td>I really struggle to get enough calories in on...</td>\n",
       "      <td>I really struggle to get enough calorie in on ...</td>\n",
       "    </tr>\n",
       "  </tbody>\n",
       "</table>\n",
       "</div>"
      ],
      "text/plain": [
       "  subreddit                                              title  \\\n",
       "0      keto  Can stress kick you out of keto? Cortisol ques...   \n",
       "1      keto  down almost 20 lbs before and after pics (slig...   \n",
       "2      keto                        Pulsatile tinnitus and Keto   \n",
       "3      keto                     Does Keto Work? (Emphatic Yes)   \n",
       "4      keto  Homemade meal replacement type shake recipe thing   \n",
       "\n",
       "                                            selftext  \\\n",
       "0  So I've been losing a steady 4 lbs a week for ...   \n",
       "1  I'm 23, and 5'6. I was someone who struggled w...   \n",
       "2  I have been doing Keto for around 10 weeks, ha...   \n",
       "3  Preface - Over 50 Soldier here. (Male)  Deploy...   \n",
       "4  I really struggle to get enough calories in on...   \n",
       "\n",
       "                                      clean_selftext  \n",
       "0  so I 've be lose a steady 4 lb a week for the ...  \n",
       "1  I be 23 , and 5'6 . I be someone who struggle ...  \n",
       "2  I have be do Keto for around 10 week , have lo...  \n",
       "3  preface - over 50 soldier here . ( Male )   de...  \n",
       "4  I really struggle to get enough calorie in on ...  "
      ]
     },
     "execution_count": 11,
     "metadata": {},
     "output_type": "execute_result"
    }
   ],
   "source": [
    "submissions.head()"
   ]
  },
  {
   "cell_type": "markdown",
   "metadata": {},
   "source": [
    "---"
   ]
  },
  {
   "cell_type": "markdown",
   "metadata": {},
   "source": [
    "## Subreddit EDA"
   ]
  },
  {
   "cell_type": "markdown",
   "metadata": {},
   "source": [
    "### Top 10 most common words in the 'Keto' subreddit"
   ]
  },
  {
   "cell_type": "code",
   "execution_count": 52,
   "metadata": {},
   "outputs": [],
   "source": [
    "# referenced Lesson 5.04 - NLP 1\n",
    "\n",
    "keto_cvect = CountVectorizer(stop_words = stop_words)\n",
    "keto_vect = keto_cvect.fit_transform(submissions[submissions['subreddit'] == 'keto']['clean_selftext'])\n",
    "keto_dtm = pd.DataFrame(keto_vect.toarray(), columns = keto_cvect.get_feature_names())"
   ]
  },
  {
   "cell_type": "code",
   "execution_count": 53,
   "metadata": {},
   "outputs": [
    {
     "data": {
      "image/png": "[encoded data removed]",
      "text/plain": [
       "<Figure size 576x432 with 1 Axes>"
      ]
     },
     "metadata": {
      "needs_background": "light"
     },
     "output_type": "display_data"
    }
   ],
   "source": [
    "plt.figure(figsize=(8,6))\n",
    "keto_dtm.sum().sort_values(ascending = False).head(10).plot(kind = 'barh')\n",
    "plt.title('Top 10 Most Common Words in \"Keto\" Subreddit')\n",
    "plt.xlabel('Frequency')\n",
    "plt.ylabel('Word');"
   ]
  },
  {
   "cell_type": "markdown",
   "metadata": {},
   "source": [
    "**-->** Top 3 words in r/Keto: keto, eat, weight\n",
    "- All words are associated with people's keto experience - especially 'feel', which I think is interesting\n",
    "- Other words not surprising to see- weight, lose, carb\n",
    "- 'diet' and 'eat' are also present in r/Nutrition"
   ]
  },
  {
   "cell_type": "markdown",
   "metadata": {},
   "source": [
    "### Top 10 most common words in the 'Nutrition' subreddit"
   ]
  },
  {
   "cell_type": "code",
   "execution_count": 54,
   "metadata": {},
   "outputs": [],
   "source": [
    "# referenced Lesson 5.04 - NLP 1\n",
    "\n",
    "nutrition_cvect = CountVectorizer(stop_words = stop_words)\n",
    "nutrition_vect = nutrition_cvect.fit_transform(submissions[submissions['subreddit'] == 'nutrition']['clean_selftext'])\n",
    "nutrition_dtm = pd.DataFrame(nutrition_vect.toarray(), columns = nutrition_cvect.get_feature_names())"
   ]
  },
  {
   "cell_type": "code",
   "execution_count": 55,
   "metadata": {},
   "outputs": [
    {
     "data": {
      "image/png": "[encoded data removed]",
      "text/plain": [
       "<Figure size 576x432 with 1 Axes>"
      ]
     },
     "metadata": {
      "needs_background": "light"
     },
     "output_type": "display_data"
    }
   ],
   "source": [
    "plt.figure(figsize=(8,6))\n",
    "nutrition_dtm.sum().sort_values(ascending = False).head(10).plot(kind = 'barh')\n",
    "plt.title('Top 10 Most Common Words in \"Nutrition\" Subreddit')\n",
    "plt.xlabel('Frequency')\n",
    "plt.ylabel('Word');"
   ]
  },
  {
   "cell_type": "markdown",
   "metadata": {},
   "source": [
    "**-->** Top 3 words in r/Nutrition: eat, food, protein\n",
    "- Interesting to see 'make' in the top words- perhaps people are looking for healthy homemade recipes\n",
    "- Other health-conscious words in the top- protein, calorie, diet, sugar\n",
    "- 'diet' and 'eat' are also present in r/Keto"
   ]
  },
  {
   "cell_type": "markdown",
   "metadata": {},
   "source": [
    "### Top 10 most common words in the combined subreddits"
   ]
  },
  {
   "cell_type": "code",
   "execution_count": 45,
   "metadata": {},
   "outputs": [],
   "source": [
    "# referenced Lesson 5.04 - NLP 1\n",
    "\n",
    "cvect = CountVectorizer(stop_words = 'english')\n",
    "subs_vect = cvect.fit_transform(submissions['clean_selftext'])\n",
    "dtm = pd.DataFrame(subs_vect.toarray(), columns = cvect.get_feature_names())"
   ]
  },
  {
   "cell_type": "code",
   "execution_count": 46,
   "metadata": {},
   "outputs": [
    {
     "data": {
      "image/png": "[encoded data removed]",
      "text/plain": [
       "<Figure size 576x432 with 1 Axes>"
      ]
     },
     "metadata": {
      "needs_background": "light"
     },
     "output_type": "display_data"
    }
   ],
   "source": [
    "plt.figure(figsize=(8,6))\n",
    "dtm.sum().sort_values(ascending = False).head(10).plot(kind = 'barh')\n",
    "plt.title('Top 10 Most Common Words in Combined Subreddits')\n",
    "plt.xlabel('Frequency')\n",
    "plt.ylabel('Word');"
   ]
  },
  {
   "cell_type": "markdown",
   "metadata": {},
   "source": [
    "**-->** 've' is in the top 10 most occuring words, which doesn't tell us much since it's part of a contraction. 'like' and 'know' is also not that meaningful in terms of most common words. Let's clean it up by **adding custom stop words**"
   ]
  },
  {
   "cell_type": "code",
   "execution_count": 11,
   "metadata": {},
   "outputs": [],
   "source": [
    "# referenced https://stackoverflow.com/questions/24386489/adding-words-to-scikit-learns-countvectorizers-stop-list/24386751\n",
    "\n",
    "from sklearn.feature_extraction import text \n",
    "\n",
    "stop_words = text.ENGLISH_STOP_WORDS.union(['ve', 'like', 'just', 'day', 'don', 'know', 'really', 'does', 'https'])"
   ]
  },
  {
   "cell_type": "code",
   "execution_count": 13,
   "metadata": {},
   "outputs": [],
   "source": [
    "cvect_stop = CountVectorizer(stop_words = stop_words)\n",
    "subs_vect = cvect_stop.fit_transform(submissions['clean_selftext'])\n",
    "dtm = pd.DataFrame(subs_vect.toarray(), columns = cvect_stop.get_feature_names())"
   ]
  },
  {
   "cell_type": "code",
   "execution_count": 51,
   "metadata": {},
   "outputs": [
    {
     "data": {
      "image/png": "[encoded data removed]",
      "text/plain": [
       "<Figure size 576x432 with 1 Axes>"
      ]
     },
     "metadata": {
      "needs_background": "light"
     },
     "output_type": "display_data"
    }
   ],
   "source": [
    "plt.figure(figsize=(8,6))\n",
    "dtm.sum().sort_values(ascending = False).head(10).plot(kind = 'barh')\n",
    "plt.title('Top 10 Most Common Words in Combined Subreddits w/ Custom Stop Words')\n",
    "plt.xlabel('Frequency')\n",
    "plt.ylabel('Word');"
   ]
  },
  {
   "cell_type": "markdown",
   "metadata": {},
   "source": [
    "**-->** Despite 'eat' and 'diet' present in both subreddits, majority of the top words derive from r/Keto, as that subreddit has almost twice as many top 10 common words, compared to r/Nutrition"
   ]
  },
  {
   "cell_type": "markdown",
   "metadata": {},
   "source": [
    "----"
   ]
  },
  {
   "cell_type": "markdown",
   "metadata": {},
   "source": [
    "## Modeling"
   ]
  },
  {
   "cell_type": "markdown",
   "metadata": {},
   "source": [
    "### Establish Baseline Accuracy"
   ]
  },
  {
   "cell_type": "code",
   "execution_count": 16,
   "metadata": {},
   "outputs": [],
   "source": [
    "# binarize target -- subreddit\n",
    "# keto = 0, nutrition = 1\n",
    "\n",
    "submissions['subreddit_binary'] = np.where(submissions['subreddit'] == 'keto', 0, 1)"
   ]
  },
  {
   "cell_type": "code",
   "execution_count": 59,
   "metadata": {},
   "outputs": [
    {
     "data": {
      "text/html": [
       "<div>\n",
       "<style scoped>\n",
       "    .dataframe tbody tr th:only-of-type {\n",
       "        vertical-align: middle;\n",
       "    }\n",
       "\n",
       "    .dataframe tbody tr th {\n",
       "        vertical-align: top;\n",
       "    }\n",
       "\n",
       "    .dataframe thead th {\n",
       "        text-align: right;\n",
       "    }\n",
       "</style>\n",
       "<table border=\"1\" class=\"dataframe\">\n",
       "  <thead>\n",
       "    <tr style=\"text-align: right;\">\n",
       "      <th></th>\n",
       "      <th>subreddit</th>\n",
       "      <th>title</th>\n",
       "      <th>selftext</th>\n",
       "      <th>subreddit_binary</th>\n",
       "      <th>clean_selftext</th>\n",
       "    </tr>\n",
       "  </thead>\n",
       "  <tbody>\n",
       "    <tr>\n",
       "      <th>0</th>\n",
       "      <td>keto</td>\n",
       "      <td>Can stress kick you out of keto? Cortisol ques...</td>\n",
       "      <td>So I've been losing a steady 4 lbs a week for ...</td>\n",
       "      <td>0</td>\n",
       "      <td>so I 've be lose a steady 4 lb a week for the ...</td>\n",
       "    </tr>\n",
       "    <tr>\n",
       "      <th>1</th>\n",
       "      <td>keto</td>\n",
       "      <td>down almost 20 lbs before and after pics (slig...</td>\n",
       "      <td>I'm 23, and 5'6. I was someone who struggled w...</td>\n",
       "      <td>0</td>\n",
       "      <td>I be 23 , and 5'6 . I be someone who struggle ...</td>\n",
       "    </tr>\n",
       "    <tr>\n",
       "      <th>2</th>\n",
       "      <td>keto</td>\n",
       "      <td>Pulsatile tinnitus and Keto</td>\n",
       "      <td>I have been doing Keto for around 10 weeks, ha...</td>\n",
       "      <td>0</td>\n",
       "      <td>I have be do Keto for around 10 week , have lo...</td>\n",
       "    </tr>\n",
       "    <tr>\n",
       "      <th>3</th>\n",
       "      <td>keto</td>\n",
       "      <td>Does Keto Work? (Emphatic Yes)</td>\n",
       "      <td>Preface - Over 50 Soldier here. (Male)  Deploy...</td>\n",
       "      <td>0</td>\n",
       "      <td>preface - over 50 soldier here . ( Male )   de...</td>\n",
       "    </tr>\n",
       "    <tr>\n",
       "      <th>4</th>\n",
       "      <td>keto</td>\n",
       "      <td>Homemade meal replacement type shake recipe thing</td>\n",
       "      <td>I really struggle to get enough calories in on...</td>\n",
       "      <td>0</td>\n",
       "      <td>I really struggle to get enough calorie in on ...</td>\n",
       "    </tr>\n",
       "  </tbody>\n",
       "</table>\n",
       "</div>"
      ],
      "text/plain": [
       "  subreddit                                              title  \\\n",
       "0      keto  Can stress kick you out of keto? Cortisol ques...   \n",
       "1      keto  down almost 20 lbs before and after pics (slig...   \n",
       "2      keto                        Pulsatile tinnitus and Keto   \n",
       "3      keto                     Does Keto Work? (Emphatic Yes)   \n",
       "4      keto  Homemade meal replacement type shake recipe thing   \n",
       "\n",
       "                                            selftext  subreddit_binary  \\\n",
       "0  So I've been losing a steady 4 lbs a week for ...                 0   \n",
       "1  I'm 23, and 5'6. I was someone who struggled w...                 0   \n",
       "2  I have been doing Keto for around 10 weeks, ha...                 0   \n",
       "3  Preface - Over 50 Soldier here. (Male)  Deploy...                 0   \n",
       "4  I really struggle to get enough calories in on...                 0   \n",
       "\n",
       "                                      clean_selftext  \n",
       "0  so I 've be lose a steady 4 lb a week for the ...  \n",
       "1  I be 23 , and 5'6 . I be someone who struggle ...  \n",
       "2  I have be do Keto for around 10 week , have lo...  \n",
       "3  preface - over 50 soldier here . ( Male )   de...  \n",
       "4  I really struggle to get enough calorie in on ...  "
      ]
     },
     "execution_count": 59,
     "metadata": {},
     "output_type": "execute_result"
    }
   ],
   "source": [
    "submissions.head()"
   ]
  },
  {
   "cell_type": "code",
   "execution_count": 20,
   "metadata": {},
   "outputs": [
    {
     "data": {
      "text/plain": [
       "keto         3840\n",
       "nutrition    3070\n",
       "Name: subreddit, dtype: int64"
      ]
     },
     "execution_count": 20,
     "metadata": {},
     "output_type": "execute_result"
    }
   ],
   "source": [
    "# check to see how balanced our target variable is\n",
    "# might need to stratify just in case\n",
    "\n",
    "submissions['subreddit'].value_counts()"
   ]
  },
  {
   "cell_type": "code",
   "execution_count": 183,
   "metadata": {},
   "outputs": [
    {
     "data": {
      "text/plain": [
       "keto         0.555716\n",
       "nutrition    0.444284\n",
       "Name: subreddit, dtype: float64"
      ]
     },
     "execution_count": 183,
     "metadata": {},
     "output_type": "execute_result"
    }
   ],
   "source": [
    "submissions['subreddit'].value_counts(normalize = True)"
   ]
  },
  {
   "cell_type": "markdown",
   "metadata": {},
   "source": [
    "**--> The null baseline the model(s) have to score better than is 55.57%**."
   ]
  },
  {
   "cell_type": "markdown",
   "metadata": {},
   "source": [
    "### Train Test Split"
   ]
  },
  {
   "cell_type": "code",
   "execution_count": 17,
   "metadata": {},
   "outputs": [],
   "source": [
    "# establish X + y\n",
    "\n",
    "X = submissions['clean_selftext']\n",
    "y = submissions['subreddit_binary']"
   ]
  },
  {
   "cell_type": "code",
   "execution_count": 18,
   "metadata": {},
   "outputs": [],
   "source": [
    "# tts\n",
    "\n",
    "X_train, X_test, y_train, y_test = train_test_split(X, y, stratify = y, random_state = 123)"
   ]
  },
  {
   "cell_type": "markdown",
   "metadata": {},
   "source": [
    "### Multinomial Naive Bayes w/ CountVectorizer"
   ]
  },
  {
   "cell_type": "code",
   "execution_count": 26,
   "metadata": {},
   "outputs": [],
   "source": [
    "# NB with Cvect + customized stop_words list\n",
    "\n",
    "# make pipe\n",
    "pipe_nb_cvect = make_pipeline(CountVectorizer(stop_words = stop_words), MultinomialNB())"
   ]
  },
  {
   "cell_type": "code",
   "execution_count": 27,
   "metadata": {},
   "outputs": [],
   "source": [
    "params = {'multinomialnb__alpha': [0.1, 0.5, 0.75, 1.0],\n",
    "          'countvectorizer__max_features' : [500, 1000, 1500],\n",
    "          'countvectorizer__ngram_range' : [(1,1), (1,2), (1,3)]}"
   ]
  },
  {
   "cell_type": "code",
   "execution_count": 28,
   "metadata": {
    "collapsed": true,
    "jupyter": {
     "outputs_hidden": true
    }
   },
   "outputs": [
    {
     "data": {
      "text/plain": [
       "GridSearchCV(estimator=Pipeline(steps=[('countvectorizer',\n",
       "                                        CountVectorizer(stop_words=frozenset({'a',\n",
       "                                                                              'about',\n",
       "                                                                              'above',\n",
       "                                                                              'across',\n",
       "                                                                              'after',\n",
       "                                                                              'afterwards',\n",
       "                                                                              'again',\n",
       "                                                                              'against',\n",
       "                                                                              'all',\n",
       "                                                                              'almost',\n",
       "                                                                              'alone',\n",
       "                                                                              'along',\n",
       "                                                                              'already',\n",
       "                                                                              'also',\n",
       "                                                                              'although',\n",
       "                                                                              'always',\n",
       "                                                                              'am',\n",
       "                                                                              'among',\n",
       "                                                                              'amongst',\n",
       "                                                                              'amoungst',\n",
       "                                                                              'amount',\n",
       "                                                                              'an',\n",
       "                                                                              'and',\n",
       "                                                                              'another',\n",
       "                                                                              'any',\n",
       "                                                                              'anyhow',\n",
       "                                                                              'anyone',\n",
       "                                                                              'anything',\n",
       "                                                                              'anyway',\n",
       "                                                                              'anywhere', ...}))),\n",
       "                                       ('multinomialnb', MultinomialNB())]),\n",
       "             n_jobs=-1,\n",
       "             param_grid={'countvectorizer__max_features': [500, 1000, 1500],\n",
       "                         'countvectorizer__ngram_range': [(1, 1), (1, 2),\n",
       "                                                          (1, 3)],\n",
       "                         'multinomialnb__alpha': [0.1, 0.5, 0.75, 1.0]})"
      ]
     },
     "execution_count": 28,
     "metadata": {},
     "output_type": "execute_result"
    }
   ],
   "source": [
    "# gridsearchCV\n",
    "\n",
    "gs_nb_cvect = GridSearchCV(pipe_nb_cvect, param_grid = params, n_jobs = -1)\n",
    "\n",
    "gs_nb_cvect.fit(X_train, y_train)"
   ]
  },
  {
   "cell_type": "code",
   "execution_count": 20,
   "metadata": {},
   "outputs": [
    {
     "data": {
      "text/plain": [
       "{'countvectorizer__max_features': 1500,\n",
       " 'countvectorizer__ngram_range': (1, 3),\n",
       " 'multinomialnb__alpha': 0.5}"
      ]
     },
     "execution_count": 20,
     "metadata": {},
     "output_type": "execute_result"
    }
   ],
   "source": [
    "# best params?\n",
    "\n",
    "gs_nb_cvect.best_params_"
   ]
  },
  {
   "cell_type": "code",
   "execution_count": 21,
   "metadata": {},
   "outputs": [
    {
     "name": "stdout",
     "output_type": "stream",
     "text": [
      "Train Score: 0.8853724430721729\n",
      "Test Score: 0.8605324074074074\n"
     ]
    }
   ],
   "source": [
    "# score\n",
    "\n",
    "# test score is not bad; scores are consistent\n",
    "\n",
    "print(f'Train Score: {gs_nb_cvect.score(X_train, y_train)}')\n",
    "print(f'Test Score: {gs_nb_cvect.score(X_test, y_test)}')"
   ]
  },
  {
   "cell_type": "code",
   "execution_count": 22,
   "metadata": {},
   "outputs": [
    {
     "data": {
      "text/plain": [
       "array([0.85260116, 0.84682081, 0.8150289 , 0.84637681, 0.86086957])"
      ]
     },
     "execution_count": 22,
     "metadata": {},
     "output_type": "execute_result"
    }
   ],
   "source": [
    "# interpreting CV Scores..\n",
    "# CV scores are pretty consistent...\n",
    "\n",
    "cross_val_score(gs_nb_cvect, X_test, y_test)"
   ]
  },
  {
   "cell_type": "code",
   "execution_count": 64,
   "metadata": {},
   "outputs": [
    {
     "name": "stderr",
     "output_type": "stream",
     "text": [
      "C:\\Users\\veron\\Anaconda3\\lib\\site-packages\\sklearn\\utils\\deprecation.py:101: FutureWarning: Attribute coef_ was deprecated in version 0.24 and will be removed in 1.1 (renaming of 0.26).\n",
      "  warnings.warn(msg, category=FutureWarning)\n"
     ]
    },
    {
     "data": {
      "text/html": [
       "<div>\n",
       "<style scoped>\n",
       "    .dataframe tbody tr th:only-of-type {\n",
       "        vertical-align: middle;\n",
       "    }\n",
       "\n",
       "    .dataframe tbody tr th {\n",
       "        vertical-align: top;\n",
       "    }\n",
       "\n",
       "    .dataframe thead th {\n",
       "        text-align: right;\n",
       "    }\n",
       "</style>\n",
       "<table border=\"1\" class=\"dataframe\">\n",
       "  <thead>\n",
       "    <tr style=\"text-align: right;\">\n",
       "      <th></th>\n",
       "      <th>coefs</th>\n",
       "      <th>word</th>\n",
       "    </tr>\n",
       "  </thead>\n",
       "  <tbody>\n",
       "    <tr>\n",
       "      <th>430</th>\n",
       "      <td>-4.100195</td>\n",
       "      <td>eat</td>\n",
       "    </tr>\n",
       "    <tr>\n",
       "      <th>530</th>\n",
       "      <td>-4.332881</td>\n",
       "      <td>food</td>\n",
       "    </tr>\n",
       "    <tr>\n",
       "      <th>1084</th>\n",
       "      <td>-4.625753</td>\n",
       "      <td>protein</td>\n",
       "    </tr>\n",
       "    <tr>\n",
       "      <th>494</th>\n",
       "      <td>-4.732623</td>\n",
       "      <td>fat</td>\n",
       "    </tr>\n",
       "    <tr>\n",
       "      <th>238</th>\n",
       "      <td>-4.771643</td>\n",
       "      <td>calorie</td>\n",
       "    </tr>\n",
       "    <tr>\n",
       "      <th>844</th>\n",
       "      <td>-4.771643</td>\n",
       "      <td>make</td>\n",
       "    </tr>\n",
       "    <tr>\n",
       "      <th>395</th>\n",
       "      <td>-4.794949</td>\n",
       "      <td>diet</td>\n",
       "    </tr>\n",
       "    <tr>\n",
       "      <th>572</th>\n",
       "      <td>-4.801400</td>\n",
       "      <td>good</td>\n",
       "    </tr>\n",
       "    <tr>\n",
       "      <th>956</th>\n",
       "      <td>-4.870624</td>\n",
       "      <td>nutrition</td>\n",
       "    </tr>\n",
       "    <tr>\n",
       "      <th>1297</th>\n",
       "      <td>-4.891653</td>\n",
       "      <td>sugar</td>\n",
       "    </tr>\n",
       "  </tbody>\n",
       "</table>\n",
       "</div>"
      ],
      "text/plain": [
       "         coefs       word\n",
       "430  -4.100195        eat\n",
       "530  -4.332881       food\n",
       "1084 -4.625753    protein\n",
       "494  -4.732623        fat\n",
       "238  -4.771643    calorie\n",
       "844  -4.771643       make\n",
       "395  -4.794949       diet\n",
       "572  -4.801400       good\n",
       "956  -4.870624  nutrition\n",
       "1297 -4.891653      sugar"
      ]
     },
     "execution_count": 64,
     "metadata": {},
     "output_type": "execute_result"
    }
   ],
   "source": [
    "# Analyzing coefs\n",
    "\n",
    "nb_cvect_coefs = gs_nb_cvect.best_estimator_.named_steps['multinomialnb'].coef_\n",
    "nb_cvect_features = gs_nb_cvect.best_estimator_.named_steps['countvectorizer'].get_feature_names()\n",
    "nb_cvect_df = pd.DataFrame({'coefs': nb_cvect_coefs[0], 'word': nb_cvect_features})\n",
    "nb_cvect_df.nlargest(10, 'coefs')"
   ]
  },
  {
   "cell_type": "markdown",
   "metadata": {},
   "source": [
    "**-->** Words, like *eat*, *food*, and *protein* were the most impactful when classifying a Subreddit Submission post as our binarized 1 class, aka r/Nutrition, based on our positive coefs"
   ]
  },
  {
   "cell_type": "code",
   "execution_count": 65,
   "metadata": {},
   "outputs": [
    {
     "data": {
      "text/html": [
       "<div>\n",
       "<style scoped>\n",
       "    .dataframe tbody tr th:only-of-type {\n",
       "        vertical-align: middle;\n",
       "    }\n",
       "\n",
       "    .dataframe tbody tr th {\n",
       "        vertical-align: top;\n",
       "    }\n",
       "\n",
       "    .dataframe thead th {\n",
       "        text-align: right;\n",
       "    }\n",
       "</style>\n",
       "<table border=\"1\" class=\"dataframe\">\n",
       "  <thead>\n",
       "    <tr style=\"text-align: right;\">\n",
       "      <th></th>\n",
       "      <th>coefs</th>\n",
       "      <th>word</th>\n",
       "    </tr>\n",
       "  </thead>\n",
       "  <tbody>\n",
       "    <tr>\n",
       "      <th>11</th>\n",
       "      <td>-11.633354</td>\n",
       "      <td>13 68</td>\n",
       "    </tr>\n",
       "    <tr>\n",
       "      <th>35</th>\n",
       "      <td>-11.633354</td>\n",
       "      <td>2020 week</td>\n",
       "    </tr>\n",
       "    <tr>\n",
       "      <th>73</th>\n",
       "      <td>-11.633354</td>\n",
       "      <td>a1c</td>\n",
       "    </tr>\n",
       "    <tr>\n",
       "      <th>179</th>\n",
       "      <td>-11.633354</td>\n",
       "      <td>benthamopen</td>\n",
       "    </tr>\n",
       "    <tr>\n",
       "      <th>180</th>\n",
       "      <td>-11.633354</td>\n",
       "      <td>benthamopen com</td>\n",
       "    </tr>\n",
       "    <tr>\n",
       "      <th>181</th>\n",
       "      <td>-11.633354</td>\n",
       "      <td>benthamopen com fulltext</td>\n",
       "    </tr>\n",
       "    <tr>\n",
       "      <th>288</th>\n",
       "      <td>-11.633354</td>\n",
       "      <td>clothe</td>\n",
       "    </tr>\n",
       "    <tr>\n",
       "      <th>298</th>\n",
       "      <td>-11.633354</td>\n",
       "      <td>com fulltext</td>\n",
       "    </tr>\n",
       "    <tr>\n",
       "      <th>299</th>\n",
       "      <td>-11.633354</td>\n",
       "      <td>com fulltext tobiotj</td>\n",
       "    </tr>\n",
       "    <tr>\n",
       "      <th>345</th>\n",
       "      <td>-11.633354</td>\n",
       "      <td>covid</td>\n",
       "    </tr>\n",
       "  </tbody>\n",
       "</table>\n",
       "</div>"
      ],
      "text/plain": [
       "         coefs                      word\n",
       "11  -11.633354                     13 68\n",
       "35  -11.633354                 2020 week\n",
       "73  -11.633354                       a1c\n",
       "179 -11.633354               benthamopen\n",
       "180 -11.633354           benthamopen com\n",
       "181 -11.633354  benthamopen com fulltext\n",
       "288 -11.633354                    clothe\n",
       "298 -11.633354              com fulltext\n",
       "299 -11.633354      com fulltext tobiotj\n",
       "345 -11.633354                     covid"
      ]
     },
     "execution_count": 65,
     "metadata": {},
     "output_type": "execute_result"
    }
   ],
   "source": [
    "nb_cvect_df.nsmallest(10, 'coefs')"
   ]
  },
  {
   "cell_type": "markdown",
   "metadata": {},
   "source": [
    "**-->** It doesn't look like these coefs/words tell us much in terms of classifying a Subreddit Submission post as our binarized 0 class, aka r/Keto, based on the negative coefs"
   ]
  },
  {
   "cell_type": "code",
   "execution_count": 46,
   "metadata": {},
   "outputs": [
    {
     "name": "stdout",
     "output_type": "stream",
     "text": [
      "f1-score: 0.841967213114754\n",
      "precision score: 0.8480845442536328\n",
      "recall score: 0.8359375\n"
     ]
    }
   ],
   "source": [
    "# other evaluation metrics\n",
    "\n",
    "#predictions\n",
    "nb_cvect_pred = gs_nb_cvect.predict(X_test)\n",
    "\n",
    "# f1 score\n",
    "print(f'f1-score: {f1_score(y_test, nb_cvect_pred)}')\n",
    "\n",
    "# precision score\n",
    "print(f'precision score: {precision_score(y_test, nb_cvect_pred)}')\n",
    "\n",
    "# recall score\n",
    "print(f'recall score: {recall_score(y_test, nb_cvect_pred)}')"
   ]
  },
  {
   "cell_type": "code",
   "execution_count": 49,
   "metadata": {},
   "outputs": [
    {
     "data": {
      "image/png": "[encoded data removed]",
      "text/plain": [
       "<Figure size 432x288 with 2 Axes>"
      ]
     },
     "metadata": {
      "needs_background": "light"
     },
     "output_type": "display_data"
    }
   ],
   "source": [
    "# check out confusion matrix\n",
    "# 0 = keto; 1 = nutrition\n",
    "\n",
    "plot_confusion_matrix(gs_nb_cvect, X_test, y_test, cmap = 'Reds');"
   ]
  },
  {
   "cell_type": "code",
   "execution_count": 48,
   "metadata": {},
   "outputs": [
    {
     "name": "stdout",
     "output_type": "stream",
     "text": [
      "True Positives: 642 -- Predicted post as r/Nutrition and post was actually r/Nutrition\n",
      "True Negatives: 845 -- Predicted post as r/Keto and post was actually r/Keto\n",
      "False Positives: 115 -- Predicted post as r/Nutrition and post was actually r/Keto\n",
      "False Negatives: 126 -- Predicted post as r/Keto and post was actually r/Nutrition\n"
     ]
    }
   ],
   "source": [
    "tn, fp, fn, tp = confusion_matrix(y_test, nb_cvect_pred).ravel()\n",
    "\n",
    "print(f'True Positives: {tp} -- Predicted post as r/Nutrition and post was actually r/Nutrition')\n",
    "print(f'True Negatives: {tn} -- Predicted post as r/Keto and post was actually r/Keto')\n",
    "print(f'False Positives: {fp} -- Predicted post as r/Nutrition and post was actually r/Keto')\n",
    "print(f'False Negatives: {fn} -- Predicted post as r/Keto and post was actually r/Nutrition')"
   ]
  },
  {
   "cell_type": "markdown",
   "metadata": {},
   "source": [
    "**--> Interpretation**\n",
    "\n",
    "**Defining Multinomial Naive Bayes:** Taking a step back, **Naive Bayes** models assumes independence between the features and is based off conditional probability. The model is used for text classification. **Multinomial Naive Bayes** is used for discrete features, such as text that is counted and generates probabilities for the counted words\n",
    "\n",
    "**Defining CountVectorizer:** Counts and returns the occurance of words/features in the given selftext. Returns the most recurring features based on the max_features hyperparameter.\n",
    "\n",
    "**Rationale:** Multinomial Naive Bayes fits perfectly for our Subreddit classification problem, as we're generating features of words and counting their frequencies, while also looking at the probability of .\n",
    "\n",
    "**Model Score:** This model can classify the subreddit of Submission posts with 86% accuracy, exceeding our baseline accuracy model of 55%. Cross val scores are consistent and the model is a tad overfit in comparison to our train score.\n",
    "\n",
    "**Confusion Matrix + Evaluation Metrics:** Of all the True Positives, 16% of them were False Negatives (126), which explains the lower recall score (83.6%), in comparison to the rest of the models that were trained. This model was one of the lowest performing model in terms of recall and f1-scores."
   ]
  },
  {
   "cell_type": "markdown",
   "metadata": {},
   "source": [
    "### Multinomial Naive Bayes w/ TfidfVectorizer"
   ]
  },
  {
   "cell_type": "code",
   "execution_count": 21,
   "metadata": {},
   "outputs": [],
   "source": [
    "# NB with Tfidf + customized stop_words list\n",
    "\n",
    "pipe_nb_tfidf = make_pipeline(TfidfVectorizer(stop_words = stop_words), MultinomialNB())"
   ]
  },
  {
   "cell_type": "code",
   "execution_count": 22,
   "metadata": {},
   "outputs": [],
   "source": [
    "params = {'multinomialnb__alpha': [0.1, 0.5, 0.75, 1.0],\n",
    "          'tfidfvectorizer__ngram_range' : [(1,1), (1,2)], \n",
    "          'tfidfvectorizer__max_features' : [500, 1000, 1500]}"
   ]
  },
  {
   "cell_type": "code",
   "execution_count": 23,
   "metadata": {
    "collapsed": true,
    "jupyter": {
     "outputs_hidden": true
    }
   },
   "outputs": [
    {
     "data": {
      "text/plain": [
       "GridSearchCV(estimator=Pipeline(steps=[('tfidfvectorizer',\n",
       "                                        TfidfVectorizer(stop_words=frozenset({'a',\n",
       "                                                                              'about',\n",
       "                                                                              'above',\n",
       "                                                                              'across',\n",
       "                                                                              'after',\n",
       "                                                                              'afterwards',\n",
       "                                                                              'again',\n",
       "                                                                              'against',\n",
       "                                                                              'all',\n",
       "                                                                              'almost',\n",
       "                                                                              'alone',\n",
       "                                                                              'along',\n",
       "                                                                              'already',\n",
       "                                                                              'also',\n",
       "                                                                              'although',\n",
       "                                                                              'always',\n",
       "                                                                              'am',\n",
       "                                                                              'among',\n",
       "                                                                              'amongst',\n",
       "                                                                              'amoungst',\n",
       "                                                                              'amount',\n",
       "                                                                              'an',\n",
       "                                                                              'and',\n",
       "                                                                              'another',\n",
       "                                                                              'any',\n",
       "                                                                              'anyhow',\n",
       "                                                                              'anyone',\n",
       "                                                                              'anything',\n",
       "                                                                              'anyway',\n",
       "                                                                              'anywhere', ...}))),\n",
       "                                       ('multinomialnb', MultinomialNB())]),\n",
       "             n_jobs=-1,\n",
       "             param_grid={'multinomialnb__alpha': [0.1, 0.5, 0.75, 1.0],\n",
       "                         'tfidfvectorizer__max_features': [500, 1000, 1500],\n",
       "                         'tfidfvectorizer__ngram_range': [(1, 1), (1, 2)]})"
      ]
     },
     "execution_count": 23,
     "metadata": {},
     "output_type": "execute_result"
    }
   ],
   "source": [
    "# gridsearchCV\n",
    "\n",
    "gs_nb_tfidf = GridSearchCV(pipe_nb_tfidf, param_grid = params, n_jobs = -1)\n",
    "\n",
    "gs_nb_tfidf.fit(X_train, y_train)"
   ]
  },
  {
   "cell_type": "code",
   "execution_count": 26,
   "metadata": {},
   "outputs": [
    {
     "data": {
      "text/plain": [
       "{'multinomialnb__alpha': 0.1,\n",
       " 'tfidfvectorizer__max_features': 1500,\n",
       " 'tfidfvectorizer__ngram_range': (1, 2)}"
      ]
     },
     "execution_count": 26,
     "metadata": {},
     "output_type": "execute_result"
    }
   ],
   "source": [
    "# best params?\n",
    "\n",
    "gs_nb_tfidf.best_params_"
   ]
  },
  {
   "cell_type": "code",
   "execution_count": 27,
   "metadata": {},
   "outputs": [
    {
     "name": "stdout",
     "output_type": "stream",
     "text": [
      "Train Score: 0.8774604399845619\n",
      "Test Score: 0.8483796296296297\n"
     ]
    }
   ],
   "source": [
    "# score\n",
    "\n",
    "# cvect was better\n",
    "\n",
    "print(f'Train Score: {gs_nb_tfidf.score(X_train, y_train)}')\n",
    "print(f'Test Score: {gs_nb_tfidf.score(X_test, y_test)}')"
   ]
  },
  {
   "cell_type": "code",
   "execution_count": 28,
   "metadata": {},
   "outputs": [
    {
     "data": {
      "text/plain": [
       "array([0.84393064, 0.81791908, 0.80346821, 0.84057971, 0.85217391])"
      ]
     },
     "execution_count": 28,
     "metadata": {},
     "output_type": "execute_result"
    }
   ],
   "source": [
    "# interpreting CV Scores..\n",
    "# like cvect, CV scores are pretty consistent as well...\n",
    "\n",
    "cross_val_score(gs_nb_tfidf, X_test, y_test)"
   ]
  },
  {
   "cell_type": "code",
   "execution_count": 60,
   "metadata": {},
   "outputs": [
    {
     "name": "stderr",
     "output_type": "stream",
     "text": [
      "C:\\Users\\veron\\Anaconda3\\lib\\site-packages\\sklearn\\utils\\deprecation.py:101: FutureWarning: Attribute coef_ was deprecated in version 0.24 and will be removed in 1.1 (renaming of 0.26).\n",
      "  warnings.warn(msg, category=FutureWarning)\n"
     ]
    },
    {
     "data": {
      "text/html": [
       "<div>\n",
       "<style scoped>\n",
       "    .dataframe tbody tr th:only-of-type {\n",
       "        vertical-align: middle;\n",
       "    }\n",
       "\n",
       "    .dataframe tbody tr th {\n",
       "        vertical-align: top;\n",
       "    }\n",
       "\n",
       "    .dataframe thead th {\n",
       "        text-align: right;\n",
       "    }\n",
       "</style>\n",
       "<table border=\"1\" class=\"dataframe\">\n",
       "  <thead>\n",
       "    <tr style=\"text-align: right;\">\n",
       "      <th></th>\n",
       "      <th>coefs</th>\n",
       "      <th>word</th>\n",
       "    </tr>\n",
       "  </thead>\n",
       "  <tbody>\n",
       "    <tr>\n",
       "      <th>434</th>\n",
       "      <td>-4.720479</td>\n",
       "      <td>eat</td>\n",
       "    </tr>\n",
       "    <tr>\n",
       "      <th>534</th>\n",
       "      <td>-4.742692</td>\n",
       "      <td>food</td>\n",
       "    </tr>\n",
       "    <tr>\n",
       "      <th>1084</th>\n",
       "      <td>-4.969987</td>\n",
       "      <td>protein</td>\n",
       "    </tr>\n",
       "    <tr>\n",
       "      <th>954</th>\n",
       "      <td>-4.986456</td>\n",
       "      <td>nutrition</td>\n",
       "    </tr>\n",
       "    <tr>\n",
       "      <th>576</th>\n",
       "      <td>-5.060704</td>\n",
       "      <td>good</td>\n",
       "    </tr>\n",
       "    <tr>\n",
       "      <th>628</th>\n",
       "      <td>-5.091160</td>\n",
       "      <td>healthy</td>\n",
       "    </tr>\n",
       "    <tr>\n",
       "      <th>1420</th>\n",
       "      <td>-5.094986</td>\n",
       "      <td>vitamin</td>\n",
       "    </tr>\n",
       "    <tr>\n",
       "      <th>238</th>\n",
       "      <td>-5.100466</td>\n",
       "      <td>calorie</td>\n",
       "    </tr>\n",
       "    <tr>\n",
       "      <th>1296</th>\n",
       "      <td>-5.149608</td>\n",
       "      <td>sugar</td>\n",
       "    </tr>\n",
       "    <tr>\n",
       "      <th>498</th>\n",
       "      <td>-5.204435</td>\n",
       "      <td>fat</td>\n",
       "    </tr>\n",
       "  </tbody>\n",
       "</table>\n",
       "</div>"
      ],
      "text/plain": [
       "         coefs       word\n",
       "434  -4.720479        eat\n",
       "534  -4.742692       food\n",
       "1084 -4.969987    protein\n",
       "954  -4.986456  nutrition\n",
       "576  -5.060704       good\n",
       "628  -5.091160    healthy\n",
       "1420 -5.094986    vitamin\n",
       "238  -5.100466    calorie\n",
       "1296 -5.149608      sugar\n",
       "498  -5.204435        fat"
      ]
     },
     "execution_count": 60,
     "metadata": {},
     "output_type": "execute_result"
    }
   ],
   "source": [
    "# Analyzing coefs\n",
    "\n",
    "nb_tfidf_coefs = gs_nb_tfidf.best_estimator_.named_steps['multinomialnb'].coef_\n",
    "nb_tfidf_features = gs_nb_tfidf.best_estimator_.named_steps['tfidfvectorizer'].get_feature_names()\n",
    "nb_tfidf_df = pd.DataFrame({'coefs': nb_tfidf_coefs[0], 'word': nb_tfidf_features})\n",
    "nb_tfidf_df.nlargest(10, 'coefs')"
   ]
  },
  {
   "cell_type": "markdown",
   "metadata": {},
   "source": [
    "**-->** Words, like *eat*, *food*, and *protein* were the most impactful when classifying a Subreddit Submission post as our binarized 1 class, aka r/Nutrition, based on our positive coefs"
   ]
  },
  {
   "cell_type": "code",
   "execution_count": 62,
   "metadata": {},
   "outputs": [
    {
     "data": {
      "text/html": [
       "<div>\n",
       "<style scoped>\n",
       "    .dataframe tbody tr th:only-of-type {\n",
       "        vertical-align: middle;\n",
       "    }\n",
       "\n",
       "    .dataframe tbody tr th {\n",
       "        vertical-align: top;\n",
       "    }\n",
       "\n",
       "    .dataframe thead th {\n",
       "        text-align: right;\n",
       "    }\n",
       "</style>\n",
       "<table border=\"1\" class=\"dataframe\">\n",
       "  <thead>\n",
       "    <tr style=\"text-align: right;\">\n",
       "      <th></th>\n",
       "      <th>coefs</th>\n",
       "      <th>word</th>\n",
       "    </tr>\n",
       "  </thead>\n",
       "  <tbody>\n",
       "    <tr>\n",
       "      <th>11</th>\n",
       "      <td>-11.353118</td>\n",
       "      <td>13 68</td>\n",
       "    </tr>\n",
       "    <tr>\n",
       "      <th>35</th>\n",
       "      <td>-11.353118</td>\n",
       "      <td>2020 week</td>\n",
       "    </tr>\n",
       "    <tr>\n",
       "      <th>48</th>\n",
       "      <td>-11.353118</td>\n",
       "      <td>2nd</td>\n",
       "    </tr>\n",
       "    <tr>\n",
       "      <th>74</th>\n",
       "      <td>-11.353118</td>\n",
       "      <td>a1c</td>\n",
       "    </tr>\n",
       "    <tr>\n",
       "      <th>180</th>\n",
       "      <td>-11.353118</td>\n",
       "      <td>benthamopen</td>\n",
       "    </tr>\n",
       "    <tr>\n",
       "      <th>181</th>\n",
       "      <td>-11.353118</td>\n",
       "      <td>benthamopen com</td>\n",
       "    </tr>\n",
       "    <tr>\n",
       "      <th>291</th>\n",
       "      <td>-11.353118</td>\n",
       "      <td>clothe</td>\n",
       "    </tr>\n",
       "    <tr>\n",
       "      <th>301</th>\n",
       "      <td>-11.353118</td>\n",
       "      <td>com fulltext</td>\n",
       "    </tr>\n",
       "    <tr>\n",
       "      <th>348</th>\n",
       "      <td>-11.353118</td>\n",
       "      <td>covid</td>\n",
       "    </tr>\n",
       "    <tr>\n",
       "      <th>362</th>\n",
       "      <td>-11.353118</td>\n",
       "      <td>cw</td>\n",
       "    </tr>\n",
       "  </tbody>\n",
       "</table>\n",
       "</div>"
      ],
      "text/plain": [
       "         coefs             word\n",
       "11  -11.353118            13 68\n",
       "35  -11.353118        2020 week\n",
       "48  -11.353118              2nd\n",
       "74  -11.353118              a1c\n",
       "180 -11.353118      benthamopen\n",
       "181 -11.353118  benthamopen com\n",
       "291 -11.353118           clothe\n",
       "301 -11.353118     com fulltext\n",
       "348 -11.353118            covid\n",
       "362 -11.353118               cw"
      ]
     },
     "execution_count": 62,
     "metadata": {},
     "output_type": "execute_result"
    }
   ],
   "source": [
    "nb_tfidf_df.nsmallest(10, 'coefs')"
   ]
  },
  {
   "cell_type": "markdown",
   "metadata": {},
   "source": [
    "**-->** Like the CountVectorizer Multinomial Naive Bayes model, it doesn't look like these coefs/words tell us much in terms of classifying a Subreddit Submission post as our binarized 0 class, aka r/Keto, based on the negative coefs"
   ]
  },
  {
   "cell_type": "code",
   "execution_count": 27,
   "metadata": {},
   "outputs": [
    {
     "name": "stdout",
     "output_type": "stream",
     "text": [
      "f1-score: 0.8227334235453314\n",
      "precision score: 0.856338028169014\n",
      "recall score: 0.7916666666666666\n"
     ]
    }
   ],
   "source": [
    "# other evaluation metrics\n",
    "\n",
    "#predictions\n",
    "nb_tfidf_pred = gs_nb_tfidf.predict(X_test)\n",
    "\n",
    "# f1 score\n",
    "print(f'f1-score: {f1_score(y_test, nb_tfidf_pred)}')\n",
    "\n",
    "# precision score\n",
    "print(f'precision score: {precision_score(y_test, nb_tfidf_pred)}')\n",
    "\n",
    "# recall score\n",
    "print(f'recall score: {recall_score(y_test, nb_tfidf_pred)}')"
   ]
  },
  {
   "cell_type": "code",
   "execution_count": 45,
   "metadata": {},
   "outputs": [
    {
     "data": {
      "image/png": "[encoded data removed]",
      "text/plain": [
       "<Figure size 432x288 with 2 Axes>"
      ]
     },
     "metadata": {
      "needs_background": "light"
     },
     "output_type": "display_data"
    }
   ],
   "source": [
    "# check out confusion matrix\n",
    "# 0 = keto; 1 = nutrition\n",
    "\n",
    "plot_confusion_matrix(gs_nb_tfidf, X_test, y_test, cmap = 'Reds');"
   ]
  },
  {
   "cell_type": "code",
   "execution_count": 28,
   "metadata": {},
   "outputs": [
    {
     "name": "stdout",
     "output_type": "stream",
     "text": [
      "True Positives: 608 -- Predicted post as r/Nutrition and post was actually r/Nutrition\n",
      "True Negatives: 858 -- Predicted post as r/Keto and post was actually r/Keto\n",
      "False Positives: 102 -- Predicted post as r/Nutrition and post was actually r/Keto\n",
      "False Negatives: 160 -- Predicted post as r/Keto and post was actually r/Nutrition\n"
     ]
    }
   ],
   "source": [
    "tn, fp, fn, tp = confusion_matrix(y_test, nb_tfidf_pred).ravel()\n",
    "\n",
    "print(f'True Positives: {tp} -- Predicted post as r/Nutrition and post was actually r/Nutrition')\n",
    "print(f'True Negatives: {tn} -- Predicted post as r/Keto and post was actually r/Keto')\n",
    "print(f'False Positives: {fp} -- Predicted post as r/Nutrition and post was actually r/Keto')\n",
    "print(f'False Negatives: {fn} -- Predicted post as r/Keto and post was actually r/Nutrition')"
   ]
  },
  {
   "cell_type": "markdown",
   "metadata": {},
   "source": [
    "**--> Brief Interpretation**\n",
    "\n",
    "**Defining Multinomial Naive Bayes:** Taking a step back, **Naive Bayes** models assumes independence between the features and is based off conditional probability. The model is used for text classification. **Multinomial Naive Bayes** is used for discrete features, such as text that is counted and generates probabilities for the counted words\n",
    "\n",
    "**Defining TfidfVectorizer:** Counts and returns the occurance of words/features in the given selftext. Penalizes the most recurring features and gives greater weight to features that don't occur as frequent in other documents throughout the bag-of-words / corpus.\n",
    "\n",
    "**Rationale:** I chose Logistic Regression because it's a fairly simple model overall and can be used for multiclass classifications as well, despite this project having a binary target variable. \n",
    "\n",
    "**Model Score:** This model can classify the subreddit of Submission posts with 91% accuracy, exceeding our baseline accuracy model of 55%. Cross val scores are consistent and the model is slightly overfit in comparison to our train score.\n",
    "\n",
    "**Confusion Matrix + Evaluation Metrics:** Of all the True Positives, 20% of them were False Negatives (160), which explains the lowest recall score (79%), in comparison to the rest of the models that were trained. This model was the lowest performing model in terms of recall and f1-scores."
   ]
  },
  {
   "cell_type": "markdown",
   "metadata": {},
   "source": [
    "### Logistic Regression w/ CountVectorizer"
   ]
  },
  {
   "cell_type": "code",
   "execution_count": 32,
   "metadata": {},
   "outputs": [],
   "source": [
    "# LR with CountVect + customized stop_words list\n",
    "\n",
    "pipe_lr_cvect = make_pipeline(CountVectorizer(stop_words = stop_words), LogisticRegression(max_iter = 1000))"
   ]
  },
  {
   "cell_type": "code",
   "execution_count": 33,
   "metadata": {},
   "outputs": [],
   "source": [
    "params = {'countvectorizer__ngram_range' : [(1,1), (1,2)], \n",
    "          'countvectorizer__max_features' : [100, 1000, 1500], \n",
    "          'logisticregression__C': [.1, .5, .75, 1]}"
   ]
  },
  {
   "cell_type": "code",
   "execution_count": 34,
   "metadata": {
    "collapsed": true,
    "jupyter": {
     "outputs_hidden": true
    }
   },
   "outputs": [
    {
     "data": {
      "text/plain": [
       "GridSearchCV(estimator=Pipeline(steps=[('countvectorizer',\n",
       "                                        CountVectorizer(stop_words=frozenset({'a',\n",
       "                                                                              'about',\n",
       "                                                                              'above',\n",
       "                                                                              'across',\n",
       "                                                                              'after',\n",
       "                                                                              'afterwards',\n",
       "                                                                              'again',\n",
       "                                                                              'against',\n",
       "                                                                              'all',\n",
       "                                                                              'almost',\n",
       "                                                                              'alone',\n",
       "                                                                              'along',\n",
       "                                                                              'already',\n",
       "                                                                              'also',\n",
       "                                                                              'although',\n",
       "                                                                              'always',\n",
       "                                                                              'am',\n",
       "                                                                              'among',\n",
       "                                                                              'amongst',\n",
       "                                                                              'amoungst',\n",
       "                                                                              'amount',\n",
       "                                                                              'an',\n",
       "                                                                              'and',\n",
       "                                                                              'another',\n",
       "                                                                              'any',\n",
       "                                                                              'anyhow',\n",
       "                                                                              'anyone',\n",
       "                                                                              'anything',\n",
       "                                                                              'anyway',\n",
       "                                                                              'anywhere', ...}))),\n",
       "                                       ('logisticregression',\n",
       "                                        LogisticRegression(max_iter=1000))]),\n",
       "             n_jobs=-1,\n",
       "             param_grid={'countvectorizer__max_features': [100, 1000, 1500],\n",
       "                         'countvectorizer__ngram_range': [(1, 1), (1, 2)],\n",
       "                         'logisticregression__C': [0.1, 0.5, 0.75, 1]})"
      ]
     },
     "execution_count": 34,
     "metadata": {},
     "output_type": "execute_result"
    }
   ],
   "source": [
    "# gridsearchCV\n",
    "\n",
    "gs_lr_cvect = GridSearchCV(pipe_lr_cvect, param_grid = params, n_jobs = -1)\n",
    "\n",
    "gs_lr_cvect.fit(X_train, y_train)"
   ]
  },
  {
   "cell_type": "code",
   "execution_count": 127,
   "metadata": {},
   "outputs": [
    {
     "data": {
      "text/plain": [
       "{'countvectorizer__max_features': 1500,\n",
       " 'countvectorizer__ngram_range': (1, 2),\n",
       " 'logisticregression__C': 0.1}"
      ]
     },
     "execution_count": 127,
     "metadata": {},
     "output_type": "execute_result"
    }
   ],
   "source": [
    "# best params?\n",
    "\n",
    "gs_lr_cvect.best_params_"
   ]
  },
  {
   "cell_type": "code",
   "execution_count": 128,
   "metadata": {},
   "outputs": [
    {
     "name": "stdout",
     "output_type": "stream",
     "text": [
      "Train Score: 0.95021227325357\n",
      "Test Score: 0.9079861111111112\n"
     ]
    }
   ],
   "source": [
    "# score\n",
    "\n",
    "# better than bayes..Scores are somewhat consistent, with slight overfit\n",
    "\n",
    "print(f'Train Score: {gs_lr_cvect.score(X_train, y_train)}')\n",
    "print(f'Test Score: {gs_lr_cvect.score(X_test, y_test)}')"
   ]
  },
  {
   "cell_type": "code",
   "execution_count": 129,
   "metadata": {},
   "outputs": [
    {
     "data": {
      "text/plain": [
       "array([0.86705202, 0.89306358, 0.9132948 , 0.88405797, 0.90434783])"
      ]
     },
     "execution_count": 129,
     "metadata": {},
     "output_type": "execute_result"
    }
   ],
   "source": [
    "# interpreting CV Scores..\n",
    "# CV scores are pretty consistent as well...\n",
    "\n",
    "cross_val_score(gs_lr_cvect, X_test, y_test)"
   ]
  },
  {
   "cell_type": "code",
   "execution_count": 57,
   "metadata": {},
   "outputs": [
    {
     "data": {
      "text/html": [
       "<div>\n",
       "<style scoped>\n",
       "    .dataframe tbody tr th:only-of-type {\n",
       "        vertical-align: middle;\n",
       "    }\n",
       "\n",
       "    .dataframe tbody tr th {\n",
       "        vertical-align: top;\n",
       "    }\n",
       "\n",
       "    .dataframe thead th {\n",
       "        text-align: right;\n",
       "    }\n",
       "</style>\n",
       "<table border=\"1\" class=\"dataframe\">\n",
       "  <thead>\n",
       "    <tr style=\"text-align: right;\">\n",
       "      <th></th>\n",
       "      <th>coefs</th>\n",
       "      <th>word</th>\n",
       "    </tr>\n",
       "  </thead>\n",
       "  <tbody>\n",
       "    <tr>\n",
       "      <th>628</th>\n",
       "      <td>0.904795</td>\n",
       "      <td>healthy</td>\n",
       "    </tr>\n",
       "    <tr>\n",
       "      <th>954</th>\n",
       "      <td>0.696255</td>\n",
       "      <td>nutrition</td>\n",
       "    </tr>\n",
       "    <tr>\n",
       "      <th>137</th>\n",
       "      <td>0.653322</td>\n",
       "      <td>articles</td>\n",
       "    </tr>\n",
       "    <tr>\n",
       "      <th>1420</th>\n",
       "      <td>0.555014</td>\n",
       "      <td>vitamin</td>\n",
       "    </tr>\n",
       "    <tr>\n",
       "      <th>179</th>\n",
       "      <td>0.510574</td>\n",
       "      <td>benefit</td>\n",
       "    </tr>\n",
       "    <tr>\n",
       "      <th>455</th>\n",
       "      <td>0.488792</td>\n",
       "      <td>energy</td>\n",
       "    </tr>\n",
       "    <tr>\n",
       "      <th>953</th>\n",
       "      <td>0.478410</td>\n",
       "      <td>nutrient</td>\n",
       "    </tr>\n",
       "    <tr>\n",
       "      <th>960</th>\n",
       "      <td>0.451149</td>\n",
       "      <td>oats</td>\n",
       "    </tr>\n",
       "    <tr>\n",
       "      <th>83</th>\n",
       "      <td>0.450166</td>\n",
       "      <td>acid</td>\n",
       "    </tr>\n",
       "    <tr>\n",
       "      <th>626</th>\n",
       "      <td>0.421466</td>\n",
       "      <td>health</td>\n",
       "    </tr>\n",
       "  </tbody>\n",
       "</table>\n",
       "</div>"
      ],
      "text/plain": [
       "         coefs       word\n",
       "628   0.904795    healthy\n",
       "954   0.696255  nutrition\n",
       "137   0.653322   articles\n",
       "1420  0.555014    vitamin\n",
       "179   0.510574    benefit\n",
       "455   0.488792     energy\n",
       "953   0.478410   nutrient\n",
       "960   0.451149       oats\n",
       "83    0.450166       acid\n",
       "626   0.421466     health"
      ]
     },
     "execution_count": 57,
     "metadata": {},
     "output_type": "execute_result"
    }
   ],
   "source": [
    "# Analyzing coefs\n",
    "\n",
    "lr_cvect_coefs = gs_lr_cvect.best_estimator_.named_steps['logisticregression'].coef_\n",
    "lr_cvect_features = gs_lr_cvect.best_estimator_.named_steps['countvectorizer'].get_feature_names()\n",
    "lr_cvect_df = pd.DataFrame({'coefs': lr_cvect_coefs[0], 'word': lr_cvect_features})\n",
    "lr_cvect_df.nlargest(10, 'coefs')"
   ]
  },
  {
   "cell_type": "markdown",
   "metadata": {},
   "source": [
    "**-->** Words, like *healthy*, *nutrition*, and *articles* were the most impactful when classifying a Subreddit Submission post as our binarized 1 class, aka r/Nutrition, based on our positive coefs"
   ]
  },
  {
   "cell_type": "code",
   "execution_count": 63,
   "metadata": {},
   "outputs": [
    {
     "data": {
      "text/html": [
       "<div>\n",
       "<style scoped>\n",
       "    .dataframe tbody tr th:only-of-type {\n",
       "        vertical-align: middle;\n",
       "    }\n",
       "\n",
       "    .dataframe tbody tr th {\n",
       "        vertical-align: top;\n",
       "    }\n",
       "\n",
       "    .dataframe thead th {\n",
       "        text-align: right;\n",
       "    }\n",
       "</style>\n",
       "<table border=\"1\" class=\"dataframe\">\n",
       "  <thead>\n",
       "    <tr style=\"text-align: right;\">\n",
       "      <th></th>\n",
       "      <th>coefs</th>\n",
       "      <th>word</th>\n",
       "    </tr>\n",
       "  </thead>\n",
       "  <tbody>\n",
       "    <tr>\n",
       "      <th>728</th>\n",
       "      <td>-2.784599</td>\n",
       "      <td>keto</td>\n",
       "    </tr>\n",
       "    <tr>\n",
       "      <th>752</th>\n",
       "      <td>-0.775751</td>\n",
       "      <td>ketosis</td>\n",
       "    </tr>\n",
       "    <tr>\n",
       "      <th>678</th>\n",
       "      <td>-0.588181</td>\n",
       "      <td>imgur</td>\n",
       "    </tr>\n",
       "    <tr>\n",
       "      <th>679</th>\n",
       "      <td>-0.576509</td>\n",
       "      <td>imgur com</td>\n",
       "    </tr>\n",
       "    <tr>\n",
       "      <th>751</th>\n",
       "      <td>-0.566691</td>\n",
       "      <td>ketone</td>\n",
       "    </tr>\n",
       "    <tr>\n",
       "      <th>243</th>\n",
       "      <td>-0.553342</td>\n",
       "      <td>carb</td>\n",
       "    </tr>\n",
       "    <tr>\n",
       "      <th>931</th>\n",
       "      <td>-0.546627</td>\n",
       "      <td>net</td>\n",
       "    </tr>\n",
       "    <tr>\n",
       "      <th>172</th>\n",
       "      <td>-0.533124</td>\n",
       "      <td>beef</td>\n",
       "    </tr>\n",
       "    <tr>\n",
       "      <th>273</th>\n",
       "      <td>-0.527754</td>\n",
       "      <td>cheese</td>\n",
       "    </tr>\n",
       "    <tr>\n",
       "      <th>932</th>\n",
       "      <td>-0.506580</td>\n",
       "      <td>net carb</td>\n",
       "    </tr>\n",
       "  </tbody>\n",
       "</table>\n",
       "</div>"
      ],
      "text/plain": [
       "        coefs       word\n",
       "728 -2.784599       keto\n",
       "752 -0.775751    ketosis\n",
       "678 -0.588181      imgur\n",
       "679 -0.576509  imgur com\n",
       "751 -0.566691     ketone\n",
       "243 -0.553342       carb\n",
       "931 -0.546627        net\n",
       "172 -0.533124       beef\n",
       "273 -0.527754     cheese\n",
       "932 -0.506580   net carb"
      ]
     },
     "execution_count": 63,
     "metadata": {},
     "output_type": "execute_result"
    }
   ],
   "source": [
    "lr_cvect_df.nsmallest(10, 'coefs')"
   ]
  },
  {
   "cell_type": "markdown",
   "metadata": {},
   "source": [
    "**-->** Words, like *keto*, *ketosis*, and *imgur* were the most impactful when classifying a Subreddit Submission post as our binarized 0 class, aka r/Keto, based on the negative coefs. Digging deeper, 'imgur' looks to be an image sharing source/site. Perhaps people were sharing images of their keto dishes"
   ]
  },
  {
   "cell_type": "code",
   "execution_count": 41,
   "metadata": {},
   "outputs": [
    {
     "name": "stdout",
     "output_type": "stream",
     "text": [
      "f1-score: 0.8998109640831758\n",
      "precision score: 0.8717948717948718\n",
      "recall score: 0.9296875\n"
     ]
    }
   ],
   "source": [
    "# other evaluation metrics\n",
    "\n",
    "#predictions\n",
    "lr_cvect_pred = gs_lr_cvect.predict(X_test)\n",
    "\n",
    "# f1 score\n",
    "print(f'f1-score: {f1_score(y_test, lr_cvect_pred)}')\n",
    "\n",
    "# precision score\n",
    "print(f'precision score: {precision_score(y_test, lr_cvect_pred)}')\n",
    "\n",
    "# recall score\n",
    "print(f'recall score: {recall_score(y_test, lr_cvect_pred)}')"
   ]
  },
  {
   "cell_type": "code",
   "execution_count": 42,
   "metadata": {},
   "outputs": [
    {
     "data": {
      "image/png": "[encoded data removed]",
      "text/plain": [
       "<Figure size 432x288 with 2 Axes>"
      ]
     },
     "metadata": {
      "needs_background": "light"
     },
     "output_type": "display_data"
    }
   ],
   "source": [
    "# check out confusion matrix\n",
    "# 0 = keto; 1 = nutrition\n",
    "\n",
    "plot_confusion_matrix(gs_lr_cvect, X_test, y_test, cmap = 'Reds');"
   ]
  },
  {
   "cell_type": "code",
   "execution_count": 43,
   "metadata": {},
   "outputs": [
    {
     "name": "stdout",
     "output_type": "stream",
     "text": [
      "True Positives: 714 -- Predicted post as r/Nutrition and post was actually r/Nutrition\n",
      "True Negatives: 855 -- Predicted post as r/Keto and post was actually r/Keto\n",
      "False Positives: 105 -- Predicted post as r/Nutrition and post was actually r/Keto\n",
      "False Negatives: 54 -- Predicted post as r/Keto and post was actually r/Nutrition\n"
     ]
    }
   ],
   "source": [
    "tn, fp, fn, tp = confusion_matrix(y_test, lr_cvect_pred).ravel()\n",
    "\n",
    "print(f'True Positives: {tp} -- Predicted post as r/Nutrition and post was actually r/Nutrition')\n",
    "print(f'True Negatives: {tn} -- Predicted post as r/Keto and post was actually r/Keto')\n",
    "print(f'False Positives: {fp} -- Predicted post as r/Nutrition and post was actually r/Keto')\n",
    "print(f'False Negatives: {fn} -- Predicted post as r/Keto and post was actually r/Nutrition')"
   ]
  },
  {
   "cell_type": "markdown",
   "metadata": {},
   "source": [
    "**--> Brief Interpretation**\n",
    "\n",
    "**Defining Logistic Regression:** Similar to Linear Regression in a sense of looking at how the independent variables (X) affect the dependent variable (y), only our target variable is binarized.\n",
    "\n",
    "**Defining CountVectorizer:** Counts and returns the occurance of words/features in the given selftext. Returns the most recurring features based on the max_features hyperparameter.\n",
    "\n",
    "**Rationale:** I chose Logistic Regression because it's a fairly simple model overall and can be used for multiclass classifications as well, despite this project having a binary target variable. \n",
    "\n",
    "**Model Score:** This model can classify the subreddit of Submission posts with 90.8% accuracy, exceeding our baseline accuracy model of 55%. This model was one of the better scoring models compared to the ones that were tested. Cross val scores are consistent and the model is slightly overfit in comparison to our train score.\n",
    "\n",
    "**Confusion Matrix + Evaluation Metrics:** The confusion matrix had relatively high True Positives and True Negatives, resulting in the second best precision, recall, and f1-score scores."
   ]
  },
  {
   "cell_type": "markdown",
   "metadata": {},
   "source": [
    "### Logistic Regression w/ TfidfVectorizer (BEST MODEL)"
   ]
  },
  {
   "cell_type": "code",
   "execution_count": 12,
   "metadata": {},
   "outputs": [],
   "source": [
    "# LR with Tfidf + customized stop_words list\n",
    "\n",
    "pipe_lr_tfidf = make_pipeline(TfidfVectorizer(stop_words = stop_words), LogisticRegression(max_iter = 1000))"
   ]
  },
  {
   "cell_type": "code",
   "execution_count": 13,
   "metadata": {},
   "outputs": [],
   "source": [
    "params = {'tfidfvectorizer__ngram_range' : [(1,1), (1,2), (1,3)], \n",
    "          'tfidfvectorizer__max_features' : [100, 1000, 1500], \n",
    "          'logisticregression__C': [.01, .1, 1, 10]}"
   ]
  },
  {
   "cell_type": "code",
   "execution_count": 19,
   "metadata": {
    "collapsed": true,
    "jupyter": {
     "outputs_hidden": true
    }
   },
   "outputs": [
    {
     "data": {
      "text/plain": [
       "GridSearchCV(estimator=Pipeline(steps=[('tfidfvectorizer',\n",
       "                                        TfidfVectorizer(stop_words=frozenset({'a',\n",
       "                                                                              'about',\n",
       "                                                                              'above',\n",
       "                                                                              'across',\n",
       "                                                                              'after',\n",
       "                                                                              'afterwards',\n",
       "                                                                              'again',\n",
       "                                                                              'against',\n",
       "                                                                              'all',\n",
       "                                                                              'almost',\n",
       "                                                                              'alone',\n",
       "                                                                              'along',\n",
       "                                                                              'already',\n",
       "                                                                              'also',\n",
       "                                                                              'although',\n",
       "                                                                              'always',\n",
       "                                                                              'am',\n",
       "                                                                              'among',\n",
       "                                                                              'amongst',\n",
       "                                                                              'amoungst',\n",
       "                                                                              'amount',\n",
       "                                                                              'an',\n",
       "                                                                              'and',\n",
       "                                                                              'another',\n",
       "                                                                              'any',\n",
       "                                                                              'anyhow',\n",
       "                                                                              'anyone',\n",
       "                                                                              'anything',\n",
       "                                                                              'anyway',\n",
       "                                                                              'anywhere', ...}))),\n",
       "                                       ('logisticregression',\n",
       "                                        LogisticRegression(max_iter=1000))]),\n",
       "             n_jobs=-1,\n",
       "             param_grid={'logisticregression__C': [0.01, 0.1, 1, 10],\n",
       "                         'tfidfvectorizer__max_features': [100, 1000, 1500],\n",
       "                         'tfidfvectorizer__ngram_range': [(1, 1), (1, 2),\n",
       "                                                          (1, 3)]})"
      ]
     },
     "execution_count": 19,
     "metadata": {},
     "output_type": "execute_result"
    }
   ],
   "source": [
    "# gridsearchCV\n",
    "\n",
    "gs_lr_tfidf = GridSearchCV(pipe_lr_tfidf, param_grid = params, n_jobs = -1)\n",
    "\n",
    "gs_lr_tfidf.fit(X_train, y_train)"
   ]
  },
  {
   "cell_type": "code",
   "execution_count": 20,
   "metadata": {},
   "outputs": [
    {
     "data": {
      "text/plain": [
       "{'logisticregression__C': 1,\n",
       " 'tfidfvectorizer__max_features': 1000,\n",
       " 'tfidfvectorizer__ngram_range': (1, 2)}"
      ]
     },
     "execution_count": 20,
     "metadata": {},
     "output_type": "execute_result"
    }
   ],
   "source": [
    "# best params?\n",
    "\n",
    "gs_lr_tfidf.best_params_"
   ]
  },
  {
   "cell_type": "code",
   "execution_count": 111,
   "metadata": {},
   "outputs": [
    {
     "name": "stdout",
     "output_type": "stream",
     "text": [
      "Train Score: 0.932651485912775\n",
      "Test Score: 0.9114583333333334\n"
     ]
    }
   ],
   "source": [
    "# BEST MODEL\n",
    "# score\n",
    "\n",
    "# performed just as well as LR with cvect, but cvect did a smidge better...scores are pretty consistent as well\n",
    "\n",
    "print(f'Train Score: {gs_lr_tfidf.score(X_train, y_train)}')\n",
    "print(f'Test Score: {gs_lr_tfidf.score(X_test, y_test)}')"
   ]
  },
  {
   "cell_type": "code",
   "execution_count": 112,
   "metadata": {},
   "outputs": [
    {
     "data": {
      "text/plain": [
       "array([0.89306358, 0.87861272, 0.89017341, 0.87826087, 0.89565217])"
      ]
     },
     "execution_count": 112,
     "metadata": {},
     "output_type": "execute_result"
    }
   ],
   "source": [
    "# interpreting CV Scores..\n",
    "# CV scores are pretty consistent as well...\n",
    "\n",
    "cross_val_score(gs_lr_tfidf, X_test, y_test)"
   ]
  },
  {
   "cell_type": "code",
   "execution_count": 51,
   "metadata": {},
   "outputs": [
    {
     "data": {
      "text/html": [
       "<div>\n",
       "<style scoped>\n",
       "    .dataframe tbody tr th:only-of-type {\n",
       "        vertical-align: middle;\n",
       "    }\n",
       "\n",
       "    .dataframe tbody tr th {\n",
       "        vertical-align: top;\n",
       "    }\n",
       "\n",
       "    .dataframe thead th {\n",
       "        text-align: right;\n",
       "    }\n",
       "</style>\n",
       "<table border=\"1\" class=\"dataframe\">\n",
       "  <thead>\n",
       "    <tr style=\"text-align: right;\">\n",
       "      <th></th>\n",
       "      <th>coefs</th>\n",
       "      <th>word</th>\n",
       "    </tr>\n",
       "  </thead>\n",
       "  <tbody>\n",
       "    <tr>\n",
       "      <th>419</th>\n",
       "      <td>3.439245</td>\n",
       "      <td>healthy</td>\n",
       "    </tr>\n",
       "    <tr>\n",
       "      <th>642</th>\n",
       "      <td>3.148932</td>\n",
       "      <td>nutrition</td>\n",
       "    </tr>\n",
       "    <tr>\n",
       "      <th>944</th>\n",
       "      <td>2.405725</td>\n",
       "      <td>vitamin</td>\n",
       "    </tr>\n",
       "    <tr>\n",
       "      <th>641</th>\n",
       "      <td>2.015126</td>\n",
       "      <td>nutrient</td>\n",
       "    </tr>\n",
       "    <tr>\n",
       "      <th>49</th>\n",
       "      <td>1.586264</td>\n",
       "      <td>acid</td>\n",
       "    </tr>\n",
       "    <tr>\n",
       "      <th>357</th>\n",
       "      <td>1.531348</td>\n",
       "      <td>food</td>\n",
       "    </tr>\n",
       "    <tr>\n",
       "      <th>644</th>\n",
       "      <td>1.409822</td>\n",
       "      <td>oats</td>\n",
       "    </tr>\n",
       "    <tr>\n",
       "      <th>418</th>\n",
       "      <td>1.340343</td>\n",
       "      <td>health</td>\n",
       "    </tr>\n",
       "    <tr>\n",
       "      <th>115</th>\n",
       "      <td>1.292597</td>\n",
       "      <td>benefit</td>\n",
       "    </tr>\n",
       "    <tr>\n",
       "      <th>157</th>\n",
       "      <td>1.182318</td>\n",
       "      <td>calorie</td>\n",
       "    </tr>\n",
       "  </tbody>\n",
       "</table>\n",
       "</div>"
      ],
      "text/plain": [
       "        coefs       word\n",
       "419  3.439245    healthy\n",
       "642  3.148932  nutrition\n",
       "944  2.405725    vitamin\n",
       "641  2.015126   nutrient\n",
       "49   1.586264       acid\n",
       "357  1.531348       food\n",
       "644  1.409822       oats\n",
       "418  1.340343     health\n",
       "115  1.292597    benefit\n",
       "157  1.182318    calorie"
      ]
     },
     "execution_count": 51,
     "metadata": {},
     "output_type": "execute_result"
    }
   ],
   "source": [
    "# Analyzing coefs\n",
    "\n",
    "lr_tfidf_coefs = gs_lr_tfidf.best_estimator_.named_steps['logisticregression'].coef_\n",
    "lr_tfidf_features = gs_lr_tfidf.best_estimator_.named_steps['tfidfvectorizer'].get_feature_names()\n",
    "lr_tfidf_df = pd.DataFrame({'coefs': lr_tfidf_coefs[0], 'word': lr_tfidf_features})\n",
    "lr_tfidf_df.nlargest(10, 'coefs')"
   ]
  },
  {
   "cell_type": "markdown",
   "metadata": {},
   "source": [
    "**-->** Words, like *healthy*, *nutrition*, and *vitamin* were the most impactful when classifying a Subreddit Submission post as our binarized 1 class, aka r/Nutrition, based on our positive coefs"
   ]
  },
  {
   "cell_type": "code",
   "execution_count": 52,
   "metadata": {},
   "outputs": [
    {
     "data": {
      "text/html": [
       "<div>\n",
       "<style scoped>\n",
       "    .dataframe tbody tr th:only-of-type {\n",
       "        vertical-align: middle;\n",
       "    }\n",
       "\n",
       "    .dataframe tbody tr th {\n",
       "        vertical-align: top;\n",
       "    }\n",
       "\n",
       "    .dataframe thead th {\n",
       "        text-align: right;\n",
       "    }\n",
       "</style>\n",
       "<table border=\"1\" class=\"dataframe\">\n",
       "  <thead>\n",
       "    <tr style=\"text-align: right;\">\n",
       "      <th></th>\n",
       "      <th>coefs</th>\n",
       "      <th>word</th>\n",
       "    </tr>\n",
       "  </thead>\n",
       "  <tbody>\n",
       "    <tr>\n",
       "      <th>488</th>\n",
       "      <td>-15.183263</td>\n",
       "      <td>keto</td>\n",
       "    </tr>\n",
       "    <tr>\n",
       "      <th>161</th>\n",
       "      <td>-3.994094</td>\n",
       "      <td>carb</td>\n",
       "    </tr>\n",
       "    <tr>\n",
       "      <th>501</th>\n",
       "      <td>-3.169067</td>\n",
       "      <td>ketosis</td>\n",
       "    </tr>\n",
       "    <tr>\n",
       "      <th>960</th>\n",
       "      <td>-2.575778</td>\n",
       "      <td>week</td>\n",
       "    </tr>\n",
       "    <tr>\n",
       "      <th>837</th>\n",
       "      <td>-2.408605</td>\n",
       "      <td>start</td>\n",
       "    </tr>\n",
       "    <tr>\n",
       "      <th>839</th>\n",
       "      <td>-2.216053</td>\n",
       "      <td>start keto</td>\n",
       "    </tr>\n",
       "    <tr>\n",
       "      <th>625</th>\n",
       "      <td>-2.212248</td>\n",
       "      <td>net</td>\n",
       "    </tr>\n",
       "    <tr>\n",
       "      <th>626</th>\n",
       "      <td>-2.068148</td>\n",
       "      <td>net carb</td>\n",
       "    </tr>\n",
       "    <tr>\n",
       "      <th>611</th>\n",
       "      <td>-2.065897</td>\n",
       "      <td>month</td>\n",
       "    </tr>\n",
       "    <tr>\n",
       "      <th>547</th>\n",
       "      <td>-2.026486</td>\n",
       "      <td>lose</td>\n",
       "    </tr>\n",
       "  </tbody>\n",
       "</table>\n",
       "</div>"
      ],
      "text/plain": [
       "         coefs        word\n",
       "488 -15.183263        keto\n",
       "161  -3.994094        carb\n",
       "501  -3.169067     ketosis\n",
       "960  -2.575778        week\n",
       "837  -2.408605       start\n",
       "839  -2.216053  start keto\n",
       "625  -2.212248         net\n",
       "626  -2.068148    net carb\n",
       "611  -2.065897       month\n",
       "547  -2.026486        lose"
      ]
     },
     "execution_count": 52,
     "metadata": {},
     "output_type": "execute_result"
    }
   ],
   "source": [
    "lr_tfidf_df.nsmallest(10, 'coefs')"
   ]
  },
  {
   "cell_type": "markdown",
   "metadata": {},
   "source": [
    "**-->** Words, like *keto*, *carb*, and *ketosis* were the most impactful when classifying a Subreddit Submission post as our binarized 0 class, aka r/Keto, based on the negative coefs"
   ]
  },
  {
   "cell_type": "code",
   "execution_count": 70,
   "metadata": {},
   "outputs": [],
   "source": [
    "# make train / test predictions\n",
    "lr_tfidf_pred2 = gs_lr_tfidf.predict(X_test)"
   ]
  },
  {
   "cell_type": "code",
   "execution_count": 55,
   "metadata": {},
   "outputs": [
    {
     "data": {
      "image/png": "[encoded data removed]",
      "text/plain": [
       "<Figure size 432x288 with 2 Axes>"
      ]
     },
     "metadata": {
      "needs_background": "light"
     },
     "output_type": "display_data"
    }
   ],
   "source": [
    "# check out confusion matrix\n",
    "# 0 = keto; 1 = nutrition\n",
    "\n",
    "plot_confusion_matrix(gs_lr_tfidf, X_test, y_test, cmap = 'Reds');"
   ]
  },
  {
   "cell_type": "code",
   "execution_count": 57,
   "metadata": {},
   "outputs": [
    {
     "name": "stdout",
     "output_type": "stream",
     "text": [
      "True Positives: 707 -- Predicted post as r/Nutrition and post was actually r/Nutrition\n",
      "True Negatives: 868 -- Predicted post as r/Keto and post was actually r/Keto\n",
      "False Positives: 92 -- Predicted post as r/Nutrition and post was actually r/Keto\n",
      "False Negatives: 61 -- Predicted post as r/Keto and post was actually r/Nutrition\n"
     ]
    }
   ],
   "source": [
    "tn, fp, fn, tp = confusion_matrix(y_test, lr_tfidf_pred2).ravel()\n",
    "\n",
    "print(f'True Positives: {tp} -- Predicted post as r/Nutrition and post was actually r/Nutrition')\n",
    "print(f'True Negatives: {tn} -- Predicted post as r/Keto and post was actually r/Keto')\n",
    "print(f'False Positives: {fp} -- Predicted post as r/Nutrition and post was actually r/Keto')\n",
    "print(f'False Negatives: {fn} -- Predicted post as r/Keto and post was actually r/Nutrition')"
   ]
  },
  {
   "cell_type": "code",
   "execution_count": 24,
   "metadata": {},
   "outputs": [
    {
     "name": "stdout",
     "output_type": "stream",
     "text": [
      "f1-score: 0.902361199744735\n",
      "precision score: 0.8848560700876095\n",
      "recall score: 0.9205729166666666\n"
     ]
    }
   ],
   "source": [
    "# other evaluation metrics\n",
    "\n",
    "# f1 score\n",
    "print(f'f1-score: {f1_score(y_test, lr_tfidf_pred2)}')\n",
    "\n",
    "# precision score\n",
    "print(f'precision score: {precision_score(y_test, lr_tfidf_pred2)}')\n",
    "\n",
    "# recall score\n",
    "print(f'recall score: {recall_score(y_test, lr_tfidf_pred2)}')"
   ]
  },
  {
   "cell_type": "markdown",
   "metadata": {},
   "source": [
    "#### **--> Brief Interpretation (BEST MODEL)**\n",
    "\n",
    "**Defining Logistic Regression:** Similar to Linear Regression in a sense of looking at how the independent variables (X) affect the dependent variable (y), only our target variable is discrete and binarized.\n",
    "\n",
    "**Defining TfidfVectorizer:** Counts and returns the occurance of words/features in the given selftext. Penalizes the most recurring features and gives greater weight to features that don't occur as frequent in other documents throughout the bag-of-words / corpus.\n",
    "\n",
    "**Rationale:** I chose Logistic Regression because it's a fairly simple model overall and can be used for multiclass classifications as well, despite this project having a binary target variable. \n",
    "\n",
    "**Model Score:** This model can classify the subreddit of Submission posts with 91% accuracy, exceeding our baseline accuracy model of 55%. Cross val scores are consistent and the model is slightly overfit in comparison to our train score.\n",
    "\n",
    "**Confusion Matrix + Evaluation Metrics:** Compared to the other models that were tested, this model had the highest True Negatives and the lowest False positives. Additionally, the lowest False positives led to the highest precision scores amongst the models tested. This model also had the highest f1-score."
   ]
  },
  {
   "cell_type": "markdown",
   "metadata": {},
   "source": [
    "### Random Forest w/ Count Vectorization"
   ]
  },
  {
   "cell_type": "code",
   "execution_count": 35,
   "metadata": {},
   "outputs": [],
   "source": [
    "# Random Forest with cvect + customized stop_words list\n",
    "\n",
    "pipe_forest_cvect = make_pipeline(CountVectorizer(stop_words = stop_words), RandomForestClassifier())"
   ]
  },
  {
   "cell_type": "code",
   "execution_count": 36,
   "metadata": {},
   "outputs": [],
   "source": [
    "params = {'countvectorizer__ngram_range' : [(1,1), (1,2)], \n",
    "          'countvectorizer__max_features' : [100, 1000, 1500], \n",
    "          'randomforestclassifier__max_depth': [2, 3, 4, 5],\n",
    "          'randomforestclassifier__max_features' : [10, 20, 30]}"
   ]
  },
  {
   "cell_type": "code",
   "execution_count": 37,
   "metadata": {
    "collapsed": true,
    "jupyter": {
     "outputs_hidden": true
    }
   },
   "outputs": [
    {
     "data": {
      "text/plain": [
       "GridSearchCV(estimator=Pipeline(steps=[('countvectorizer',\n",
       "                                        CountVectorizer(stop_words=frozenset({'a',\n",
       "                                                                              'about',\n",
       "                                                                              'above',\n",
       "                                                                              'across',\n",
       "                                                                              'after',\n",
       "                                                                              'afterwards',\n",
       "                                                                              'again',\n",
       "                                                                              'against',\n",
       "                                                                              'all',\n",
       "                                                                              'almost',\n",
       "                                                                              'alone',\n",
       "                                                                              'along',\n",
       "                                                                              'already',\n",
       "                                                                              'also',\n",
       "                                                                              'although',\n",
       "                                                                              'always',\n",
       "                                                                              'am',\n",
       "                                                                              'among',\n",
       "                                                                              'amongst',\n",
       "                                                                              'amoungst',\n",
       "                                                                              'amount',\n",
       "                                                                              'an',\n",
       "                                                                              'and',\n",
       "                                                                              'another',\n",
       "                                                                              'any',\n",
       "                                                                              'anyhow',\n",
       "                                                                              'anyone',\n",
       "                                                                              'anything',\n",
       "                                                                              'anyway',\n",
       "                                                                              'anywhere', ...}))),\n",
       "                                       ('randomforestclassifier',\n",
       "                                        RandomForestClassifier())]),\n",
       "             n_jobs=-1,\n",
       "             param_grid={'countvectorizer__max_features': [100, 1000, 1500],\n",
       "                         'countvectorizer__ngram_range': [(1, 1), (1, 2)],\n",
       "                         'randomforestclassifier__max_depth': [2, 3, 4, 5],\n",
       "                         'randomforestclassifier__max_features': [10, 20, 30]})"
      ]
     },
     "execution_count": 37,
     "metadata": {},
     "output_type": "execute_result"
    }
   ],
   "source": [
    "# gridsearchCV\n",
    "\n",
    "gs_forest_cvect = GridSearchCV(pipe_forest_cvect, param_grid = params, n_jobs = -1)\n",
    "\n",
    "gs_forest_cvect.fit(X_train, y_train)"
   ]
  },
  {
   "cell_type": "code",
   "execution_count": 116,
   "metadata": {},
   "outputs": [
    {
     "data": {
      "text/plain": [
       "{'countvectorizer__max_features': 100,\n",
       " 'countvectorizer__ngram_range': (1, 1),\n",
       " 'randomforestclassifier__max_depth': 5,\n",
       " 'randomforestclassifier__max_features': 20}"
      ]
     },
     "execution_count": 116,
     "metadata": {},
     "output_type": "execute_result"
    }
   ],
   "source": [
    "# best params?\n",
    "\n",
    "gs_forest_cvect.best_params_"
   ]
  },
  {
   "cell_type": "code",
   "execution_count": 117,
   "metadata": {},
   "outputs": [
    {
     "name": "stdout",
     "output_type": "stream",
     "text": [
      "Train Score: 0.9023543033577769\n",
      "Test Score: 0.8877314814814815\n"
     ]
    }
   ],
   "source": [
    "# score\n",
    "\n",
    "# scores are pretty consistent, not our lowest model score, but still not as good as our best model -- Tfidf + LR\n",
    "\n",
    "print(f'Train Score: {gs_forest_cvect.score(X_train, y_train)}')\n",
    "print(f'Test Score: {gs_forest_cvect.score(X_test, y_test)}')"
   ]
  },
  {
   "cell_type": "code",
   "execution_count": 118,
   "metadata": {},
   "outputs": [
    {
     "data": {
      "text/plain": [
       "array([0.8699422 , 0.87283237, 0.9017341 , 0.89565217, 0.88115942])"
      ]
     },
     "execution_count": 118,
     "metadata": {},
     "output_type": "execute_result"
    }
   ],
   "source": [
    "# interpreting CV Scores..\n",
    "# CV scores are pretty consistent as well...\n",
    "\n",
    "cross_val_score(gs_forest_cvect, X_test, y_test)"
   ]
  },
  {
   "cell_type": "code",
   "execution_count": 38,
   "metadata": {},
   "outputs": [
    {
     "name": "stdout",
     "output_type": "stream",
     "text": [
      "f1-score: 0.8849665246500305\n",
      "precision score: 0.8308571428571428\n",
      "recall score: 0.9466145833333334\n"
     ]
    }
   ],
   "source": [
    "# other evaluation metrics\n",
    "\n",
    "#predictions\n",
    "forest_cvect_pred = gs_forest_cvect.predict(X_test)\n",
    "\n",
    "# f1 score\n",
    "print(f'f1-score: {f1_score(y_test, forest_cvect_pred)}')\n",
    "\n",
    "# precision score\n",
    "print(f'precision score: {precision_score(y_test, forest_cvect_pred)}')\n",
    "\n",
    "# recall score\n",
    "print(f'recall score: {recall_score(y_test, forest_cvect_pred)}')"
   ]
  },
  {
   "cell_type": "code",
   "execution_count": 39,
   "metadata": {},
   "outputs": [
    {
     "data": {
      "image/png": "[encoded data removed]",
      "text/plain": [
       "<Figure size 432x288 with 2 Axes>"
      ]
     },
     "metadata": {
      "needs_background": "light"
     },
     "output_type": "display_data"
    }
   ],
   "source": [
    "# check out confusion matrix\n",
    "# 0 = keto; 1 = nutrition\n",
    "\n",
    "plot_confusion_matrix(gs_forest_cvect, X_test, y_test, cmap = 'Reds');"
   ]
  },
  {
   "cell_type": "code",
   "execution_count": 40,
   "metadata": {},
   "outputs": [
    {
     "name": "stdout",
     "output_type": "stream",
     "text": [
      "True Positives: 727 -- Predicted post as r/Nutrition and post was actually r/Nutrition\n",
      "True Negatives: 812 -- Predicted post as r/Keto and post was actually r/Keto\n",
      "False Positives: 148 -- Predicted post as r/Nutrition and post was actually r/Keto\n",
      "False Negatives: 41 -- Predicted post as r/Keto and post was actually r/Nutrition\n"
     ]
    }
   ],
   "source": [
    "tn, fp, fn, tp = confusion_matrix(y_test, forest_cvect_pred).ravel()\n",
    "\n",
    "print(f'True Positives: {tp} -- Predicted post as r/Nutrition and post was actually r/Nutrition')\n",
    "print(f'True Negatives: {tn} -- Predicted post as r/Keto and post was actually r/Keto')\n",
    "print(f'False Positives: {fp} -- Predicted post as r/Nutrition and post was actually r/Keto')\n",
    "print(f'False Negatives: {fn} -- Predicted post as r/Keto and post was actually r/Nutrition')"
   ]
  },
  {
   "cell_type": "markdown",
   "metadata": {},
   "source": [
    "**--> Brief Interpretation**\n",
    "\n",
    "**Defining Random Forest Classifier:** Let's take a step back and define a Decision Tree. Decision Tree uses Gini impurity to determine the optimal feature at each split to get the data to its purest form. With **Random Forest Classifier**, the decision trees are exposed to different sub-samples of the training data, selecting random subsets of the features at each split point of the tree\n",
    "\n",
    "**Defining CountVectorizer:** Counts and returns the occurance of words/features in the given selftext. Returns the most recurring features based on the max_features hyperparameter.\n",
    "\n",
    "**Rationale:** I chose Random Forest Classifier because it reduces the variance from decision trees by 'de-correlating' trees using the random subsets of features, whereas decision trees would look at each feature every time, causing that high correlation among the trees\n",
    "\n",
    "**Model Score:** This model can classify the subreddit of Submission posts with 88.77% accuracy, exceeding our baseline accuracy model of 55%. A great score, but not our best one. Cross val scores are consistent and the model is just a tad overfit in comparison to our train score.\n",
    "\n",
    "**Confusion Matrix + Evaluation Metrics:** Of the positive predicted values, the model predicted 20% of them as false positives, which explains the lower precision score, in comparison to the rest of the models that were trained"
   ]
  },
  {
   "cell_type": "markdown",
   "metadata": {},
   "source": [
    "---"
   ]
  },
  {
   "cell_type": "markdown",
   "metadata": {},
   "source": [
    "### Conclusion\n",
    "\n",
    "The best performing model was **Logistic Regression, used with TF-IDF Vectorizer**. This model can classify the subreddit of Submission posts with 91% accuracy, exceeding our baseline accuracy score of 55%. The parameters that performed best for this model included English stop_words, with additional irrelevant custom stop words (e.g. \"'ve\", \"really\", \"just\"), max_features of 1000, and an ngram_range of (1,2). Compared to the other models that were tested, this model had the highest True Negatives and the lowest False positives. Additionally, the lowest False positives led to the highest precision scores amongst the models tested. This model also had the highest f1-score.\n",
    "\n",
    "The top 5 words within a selftext that best distinguished r/Nutrition submission posts included 'eat', 'food', 'protein', 'fat', 'calorie'. The top 5 words within a selftext that best distinguised r/Keto Submission posts include 'keto', 'eat', 'weight', 'carb', 'start'. Despite 'eat' and 'diet' being present in both subreddits, majority of the top words from the combined datafram of r/Nutrition and r/Keto derived from r/Keto, as that subreddit had almost twice as many top 10 common words, compared to r/Nutrition.\n",
    "\n",
    "When comparing each model's accuracy score against one another, the Multinomial Naive Bayes models scored the lowest, followed by Random Forest Classifier, and finally, the Logistic Regression models performed the best. Additionally, comparing each models' confusion matrices, both Naive Bayes CountVectorizer + TfidfVectorizer models predicted the lowest number of True Positives and almost twice as many False Negatives, resulting in the lowest precision, recall, and f1-score scores of the models tested.\n",
    "\n",
    "### Recommendations\n",
    "- Lemmatize words prior to analyzation so that the model doesn't count instances of the root word ('eat', 'eats', 'eating') separately. Lemmatizing would also optimize the model in terms of finding different patterns of words.\n",
    "- Look at different ngram_ranges to see what patterns of words occur the most frequent so that the model can train on those patterns."
   ]
  },
  {
   "cell_type": "markdown",
   "metadata": {},
   "source": [
    "### Future Project Refinements\n",
    "\n",
    "- Look at other/combination of features, such as 'comments', or 'title'\n",
    "- Add to `stop_words` list (Ex. 'keto')\n",
    "- Build and evaluate additional models (DecisionTree, KNeighborsClassifier)"
   ]
  }
 ],
 "metadata": {
  "kernelspec": {
   "display_name": "Python 3",
   "language": "python",
   "name": "python3"
  },
  "language_info": {
   "codemirror_mode": {
    "name": "ipython",
    "version": 3
   },
   "file_extension": ".py",
   "mimetype": "text/x-python",
   "name": "python",
   "nbconvert_exporter": "python",
   "pygments_lexer": "ipython3",
   "version": "3.7.4"
  }
 },
 "nbformat": 4,
 "nbformat_minor": 4
}
